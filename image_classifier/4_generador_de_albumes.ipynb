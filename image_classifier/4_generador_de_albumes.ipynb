{
 "cells": [
  {
   "cell_type": "markdown",
   "source": [
    "# GENERADOR DE ALBUMES"
   ],
   "metadata": {
    "collapsed": false
   }
  },
  {
   "cell_type": "markdown",
   "source": [
    "# 0. Importación packages y constantes"
   ],
   "metadata": {
    "collapsed": false
   }
  },
  {
   "cell_type": "code",
   "execution_count": 64,
   "outputs": [],
   "source": [
    "import os.path\n",
    "import pandas as pd\n",
    "import networkx as nx\n",
    "import matplotlib.pyplot as plt\n",
    "from PIL import Image\n",
    "\n",
    "# Packages propios\n",
    "from utils.objectdetection import ObjectDetectionHelper\n",
    "from utils.graphdbmanipulation import ImagesGraphDB\n",
    "from utils.imagesmanipulation import ImageHelper\n",
    "from utils.analytics import AnalyticsHelper"
   ],
   "metadata": {
    "collapsed": false,
    "ExecuteTime": {
     "end_time": "2023-05-21T22:42:43.552173700Z",
     "start_time": "2023-05-21T22:42:43.532342Z"
    }
   }
  },
  {
   "cell_type": "code",
   "execution_count": 13,
   "outputs": [],
   "source": [
    "# GRAFO DE DETECCIÓN DE OBJETOS COCO y PERSONALIZADOS\n",
    "PATH_COCO_AND_CUSTOM_OBJECTS_GML_FILE = './outputs/graph_databases/graph_OBJECTS_CANDLES.gml'\n",
    "PATH_RIVERS_LAKES_GML_FILE = './outputs/graph_databases/graph_RIVERS_LAKES.gml'\n",
    "PATH_GEO_TIME_GML_FILE = './outputs/graph_databases/graph_GEO_TIME.gml'\n",
    "PATH_FACE_RECOG_GML_FILE = './outputs/graph_databases/graph_FACE_RECOG.gml'\n",
    "MIN_IMAGES_TRIP = 20"
   ],
   "metadata": {
    "collapsed": false,
    "ExecuteTime": {
     "end_time": "2023-05-21T19:24:48.903749400Z",
     "start_time": "2023-05-21T19:24:48.880571700Z"
    }
   }
  },
  {
   "cell_type": "markdown",
   "source": [
    "# 1. CARGA DE GRAFOS EXTRAÍDOS Y DE ETIQUETAS MANUALES"
   ],
   "metadata": {
    "collapsed": false
   }
  },
  {
   "cell_type": "code",
   "execution_count": 14,
   "outputs": [],
   "source": [
    "imagesGraphDB = ImagesGraphDB()\n",
    "imagesGraphDB.load_graph_from_gml_file(PATH_COCO_AND_CUSTOM_OBJECTS_GML_FILE)\n",
    "imagesGraphDB.load_graph_from_gml_file(PATH_RIVERS_LAKES_GML_FILE)\n",
    "imagesGraphDB.load_graph_from_gml_file(PATH_GEO_TIME_GML_FILE)\n",
    "imagesGraphDB.load_graph_from_gml_file(PATH_FACE_RECOG_GML_FILE)"
   ],
   "metadata": {
    "collapsed": false,
    "ExecuteTime": {
     "end_time": "2023-05-21T19:24:57.183352400Z",
     "start_time": "2023-05-21T19:24:56.310740600Z"
    }
   }
  },
  {
   "cell_type": "code",
   "execution_count": 15,
   "outputs": [
    {
     "data": {
      "text/plain": "                    Image  Viaje  comida  Cena  Cumpleaños Retrato  Maria  \\\n0     20210724_100218.jpg      0       0     0           0       0      0   \n1     20210724_104730.jpg      0       0     0           0       0      1   \n2     20210724_104736.jpg      0       0     0           0       0      1   \n3     20210724_104739.jpg      0       0     0           0       0      1   \n4     20210724_104743.jpg      0       0     0           0       0      1   \n5     20210724_104757.jpg      0       0     0           0       0      1   \n6     20210724_200143.jpg      0       0     0           0       1      1   \n7     20210724_200145.jpg      0       0     0           0       1      1   \n8  20210724_200231_02.jpg      0       0     0           0       1      1   \n9  20210724_200231_03.jpg      0       0     0           0       1      1   \n\n   Biel   Yo  Piscina  ...  Tenedor  Cuchillo Cuchara bowl  pastel  silla  \\\n0      1   0        0  ...        0         0       0    0       0      1   \n1      1   0        1  ...        0         0       0    0       0      0   \n2      1   0        1  ...        0         0       0    0       0      0   \n3      1   0        1  ...        0         0       0    0       0      0   \n4      1   0        1  ...        0         0       0    0       0      0   \n5      1   0        1  ...        0         0       0    0       0      0   \n6      0   1        0  ...        0         0       0    0       0      1   \n7      0   1        0  ...        0         0       0    0       0      1   \n8      0   1        0  ...        0         0       0    0       0      1   \n9      0   1        0  ...        0         0       0    0       0      1   \n\n   Mesa  Plato  Vaso  Llama vela  \n0     1      1     0           0  \n1     0      0     0           0  \n2     0      0     0           0  \n3     0      0     0           0  \n4     0      0     0           0  \n5     0      0     0           0  \n6     1      0     0           0  \n7     1      0     0           0  \n8     1      0     0           0  \n9     0      0     0           0  \n\n[10 rows x 27 columns]",
      "text/html": "<div>\n<style scoped>\n    .dataframe tbody tr th:only-of-type {\n        vertical-align: middle;\n    }\n\n    .dataframe tbody tr th {\n        vertical-align: top;\n    }\n\n    .dataframe thead th {\n        text-align: right;\n    }\n</style>\n<table border=\"1\" class=\"dataframe\">\n  <thead>\n    <tr style=\"text-align: right;\">\n      <th></th>\n      <th>Image</th>\n      <th>Viaje</th>\n      <th>comida</th>\n      <th>Cena</th>\n      <th>Cumpleaños</th>\n      <th>Retrato</th>\n      <th>Maria</th>\n      <th>Biel</th>\n      <th>Yo</th>\n      <th>Piscina</th>\n      <th>...</th>\n      <th>Tenedor</th>\n      <th>Cuchillo</th>\n      <th>Cuchara</th>\n      <th>bowl</th>\n      <th>pastel</th>\n      <th>silla</th>\n      <th>Mesa</th>\n      <th>Plato</th>\n      <th>Vaso</th>\n      <th>Llama vela</th>\n    </tr>\n  </thead>\n  <tbody>\n    <tr>\n      <th>0</th>\n      <td>20210724_100218.jpg</td>\n      <td>0</td>\n      <td>0</td>\n      <td>0</td>\n      <td>0</td>\n      <td>0</td>\n      <td>0</td>\n      <td>1</td>\n      <td>0</td>\n      <td>0</td>\n      <td>...</td>\n      <td>0</td>\n      <td>0</td>\n      <td>0</td>\n      <td>0</td>\n      <td>0</td>\n      <td>1</td>\n      <td>1</td>\n      <td>1</td>\n      <td>0</td>\n      <td>0</td>\n    </tr>\n    <tr>\n      <th>1</th>\n      <td>20210724_104730.jpg</td>\n      <td>0</td>\n      <td>0</td>\n      <td>0</td>\n      <td>0</td>\n      <td>0</td>\n      <td>1</td>\n      <td>1</td>\n      <td>0</td>\n      <td>1</td>\n      <td>...</td>\n      <td>0</td>\n      <td>0</td>\n      <td>0</td>\n      <td>0</td>\n      <td>0</td>\n      <td>0</td>\n      <td>0</td>\n      <td>0</td>\n      <td>0</td>\n      <td>0</td>\n    </tr>\n    <tr>\n      <th>2</th>\n      <td>20210724_104736.jpg</td>\n      <td>0</td>\n      <td>0</td>\n      <td>0</td>\n      <td>0</td>\n      <td>0</td>\n      <td>1</td>\n      <td>1</td>\n      <td>0</td>\n      <td>1</td>\n      <td>...</td>\n      <td>0</td>\n      <td>0</td>\n      <td>0</td>\n      <td>0</td>\n      <td>0</td>\n      <td>0</td>\n      <td>0</td>\n      <td>0</td>\n      <td>0</td>\n      <td>0</td>\n    </tr>\n    <tr>\n      <th>3</th>\n      <td>20210724_104739.jpg</td>\n      <td>0</td>\n      <td>0</td>\n      <td>0</td>\n      <td>0</td>\n      <td>0</td>\n      <td>1</td>\n      <td>1</td>\n      <td>0</td>\n      <td>1</td>\n      <td>...</td>\n      <td>0</td>\n      <td>0</td>\n      <td>0</td>\n      <td>0</td>\n      <td>0</td>\n      <td>0</td>\n      <td>0</td>\n      <td>0</td>\n      <td>0</td>\n      <td>0</td>\n    </tr>\n    <tr>\n      <th>4</th>\n      <td>20210724_104743.jpg</td>\n      <td>0</td>\n      <td>0</td>\n      <td>0</td>\n      <td>0</td>\n      <td>0</td>\n      <td>1</td>\n      <td>1</td>\n      <td>0</td>\n      <td>1</td>\n      <td>...</td>\n      <td>0</td>\n      <td>0</td>\n      <td>0</td>\n      <td>0</td>\n      <td>0</td>\n      <td>0</td>\n      <td>0</td>\n      <td>0</td>\n      <td>0</td>\n      <td>0</td>\n    </tr>\n    <tr>\n      <th>5</th>\n      <td>20210724_104757.jpg</td>\n      <td>0</td>\n      <td>0</td>\n      <td>0</td>\n      <td>0</td>\n      <td>0</td>\n      <td>1</td>\n      <td>1</td>\n      <td>0</td>\n      <td>1</td>\n      <td>...</td>\n      <td>0</td>\n      <td>0</td>\n      <td>0</td>\n      <td>0</td>\n      <td>0</td>\n      <td>0</td>\n      <td>0</td>\n      <td>0</td>\n      <td>0</td>\n      <td>0</td>\n    </tr>\n    <tr>\n      <th>6</th>\n      <td>20210724_200143.jpg</td>\n      <td>0</td>\n      <td>0</td>\n      <td>0</td>\n      <td>0</td>\n      <td>1</td>\n      <td>1</td>\n      <td>0</td>\n      <td>1</td>\n      <td>0</td>\n      <td>...</td>\n      <td>0</td>\n      <td>0</td>\n      <td>0</td>\n      <td>0</td>\n      <td>0</td>\n      <td>1</td>\n      <td>1</td>\n      <td>0</td>\n      <td>0</td>\n      <td>0</td>\n    </tr>\n    <tr>\n      <th>7</th>\n      <td>20210724_200145.jpg</td>\n      <td>0</td>\n      <td>0</td>\n      <td>0</td>\n      <td>0</td>\n      <td>1</td>\n      <td>1</td>\n      <td>0</td>\n      <td>1</td>\n      <td>0</td>\n      <td>...</td>\n      <td>0</td>\n      <td>0</td>\n      <td>0</td>\n      <td>0</td>\n      <td>0</td>\n      <td>1</td>\n      <td>1</td>\n      <td>0</td>\n      <td>0</td>\n      <td>0</td>\n    </tr>\n    <tr>\n      <th>8</th>\n      <td>20210724_200231_02.jpg</td>\n      <td>0</td>\n      <td>0</td>\n      <td>0</td>\n      <td>0</td>\n      <td>1</td>\n      <td>1</td>\n      <td>0</td>\n      <td>1</td>\n      <td>0</td>\n      <td>...</td>\n      <td>0</td>\n      <td>0</td>\n      <td>0</td>\n      <td>0</td>\n      <td>0</td>\n      <td>1</td>\n      <td>1</td>\n      <td>0</td>\n      <td>0</td>\n      <td>0</td>\n    </tr>\n    <tr>\n      <th>9</th>\n      <td>20210724_200231_03.jpg</td>\n      <td>0</td>\n      <td>0</td>\n      <td>0</td>\n      <td>0</td>\n      <td>1</td>\n      <td>1</td>\n      <td>0</td>\n      <td>1</td>\n      <td>0</td>\n      <td>...</td>\n      <td>0</td>\n      <td>0</td>\n      <td>0</td>\n      <td>0</td>\n      <td>0</td>\n      <td>1</td>\n      <td>0</td>\n      <td>0</td>\n      <td>0</td>\n      <td>0</td>\n    </tr>\n  </tbody>\n</table>\n<p>10 rows × 27 columns</p>\n</div>"
     },
     "execution_count": 15,
     "metadata": {},
     "output_type": "execute_result"
    }
   ],
   "source": [
    "df_images_labeled_manually = pd.read_excel('./resources/manual_labels/etiquetado_manual_imagenes.xlsx',skiprows=1)\n",
    "df_images_labeled_manually.head(10)"
   ],
   "metadata": {
    "collapsed": false,
    "ExecuteTime": {
     "end_time": "2023-05-21T19:25:02.376362800Z",
     "start_time": "2023-05-21T19:25:01.603628Z"
    }
   }
  },
  {
   "cell_type": "markdown",
   "source": [
    "# 2. EXTRACCIÓN DE EVENTOS"
   ],
   "metadata": {
    "collapsed": false
   }
  },
  {
   "cell_type": "markdown",
   "source": [
    "## 2.1. COMIDAS Y CENAS"
   ],
   "metadata": {
    "collapsed": false
   }
  },
  {
   "cell_type": "markdown",
   "source": [
    "### 2.1.1. Obtención de las imagenes predecidas de comidas y cenas"
   ],
   "metadata": {
    "collapsed": false
   }
  },
  {
   "cell_type": "markdown",
   "source": [
    "El algoritmo utilizado se basaria en los siguientes pasos:\n",
    "- encontrar imagenes que contengan mesas, botellas y vasos de vino\n",
    "- obtener el dia en que fueron tomadas esas fotos y en que franja horaria (madrugada, mañana, tarde o noche)\n",
    "- obtener el resto de fotos de esos dias y franjas horarias, al ser muy probables que pertenezcan al mismo evento comida o cena."
   ],
   "metadata": {
    "collapsed": false
   }
  },
  {
   "cell_type": "code",
   "execution_count": 44,
   "outputs": [],
   "source": [
    "# Creo función para detectar intersecciones en listas\n",
    "def intersection(lst1, lst2):\n",
    "    lst3 = [value for value in lst1 if value in lst2]\n",
    "    return lst3"
   ],
   "metadata": {
    "collapsed": false,
    "ExecuteTime": {
     "end_time": "2023-05-21T22:25:32.437846900Z",
     "start_time": "2023-05-21T22:25:32.398078200Z"
    }
   }
  },
  {
   "cell_type": "code",
   "execution_count": 53,
   "outputs": [],
   "source": [
    "# Se obtiene las imágenes del grafo que se relacionan con los nodos \"dining table\",\"bottle\" y \"wine glass\"\n",
    "object_classes_to_filter = ['dining table'] # Se cogerán las imágenes con pasteles, personas y velas encendidas\n",
    "dining_table_images_list = imagesGraphDB.get_images_containing_list_object_types(['dining table'])\n",
    "bottle_images_list = imagesGraphDB.get_images_containing_list_object_types(['bottle'])\n",
    "wine_glass_list = imagesGraphDB.get_images_containing_list_object_types(['wine glass'])\n",
    "\n",
    "# Se busca la intersección de los tres conjuntos de imágenes\n",
    "lunch_dinner_detected_list = intersection(dining_table_images_list,bottle_images_list)\n",
    "lunch_dinner_detected_list = intersection(lunch_dinner_detected_list,wine_glass_list)\n"
   ],
   "metadata": {
    "collapsed": false,
    "ExecuteTime": {
     "end_time": "2023-05-21T22:32:29.892785900Z",
     "start_time": "2023-05-21T22:32:29.765295800Z"
    }
   }
  },
  {
   "cell_type": "code",
   "execution_count": 54,
   "outputs": [],
   "source": [
    "# Se buscan las fechas\n",
    "df_lunch_dinner_detected_dates = imagesGraphDB.get_neighbours_by_type_of_node_list(lunch_dinner_detected_list,'image_filename','fecha')\n",
    "# Se obtienen las franjas de los conjuntos de imágenes obtenidos\n",
    "df_lunch_dinner_detected_franjas = imagesGraphDB.get_neighbours_by_type_of_node_list(lunch_dinner_detected_list,'image_filename','franja')"
   ],
   "metadata": {
    "collapsed": false,
    "ExecuteTime": {
     "end_time": "2023-05-21T22:32:33.297051800Z",
     "start_time": "2023-05-21T22:32:33.269334300Z"
    }
   }
  },
  {
   "cell_type": "code",
   "execution_count": 55,
   "outputs": [],
   "source": [
    "# Se cruzan los datos de franjas horarias y fechas\n",
    "df_lunch_dinner_detected = pd.merge(df_lunch_dinner_detected_dates,df_lunch_dinner_detected_franjas,on='image_filename')"
   ],
   "metadata": {
    "collapsed": false,
    "ExecuteTime": {
     "end_time": "2023-05-21T22:32:34.977583Z",
     "start_time": "2023-05-21T22:32:34.888759200Z"
    }
   }
  },
  {
   "cell_type": "code",
   "execution_count": 56,
   "outputs": [],
   "source": [
    "# Se separan las imágenes de comidas y cenas detectadas en función de las franjas horarias\n",
    "df_lunch_detected = df_lunch_dinner_detected[df_lunch_dinner_detected['franja']=='afternoon']\n",
    "df_supper_detected = df_lunch_dinner_detected[df_lunch_dinner_detected['franja'].isin(['night','early_morning'])]"
   ],
   "metadata": {
    "collapsed": false,
    "ExecuteTime": {
     "end_time": "2023-05-21T22:32:35.636534900Z",
     "start_time": "2023-05-21T22:32:35.602201800Z"
    }
   }
  },
  {
   "cell_type": "code",
   "execution_count": 57,
   "outputs": [],
   "source": [
    "# Se busca el listado de imagenes en los mismos días y franjas horarias porque se considera probable que pertenezcan al mismo evento de comida o cena\n",
    "\n",
    "# COMIDAS\n",
    "df_total_lunch_candidates_images = imagesGraphDB.get_neighbours_by_type_of_node_list(list(set(df_lunch_detected['fecha'].to_list())),'fecha','image_filename')\n",
    "total_lunch_candidates_images_list = df_total_lunch_candidates_images['image_filename'].to_list()\n",
    "df_total_lunch_candidates_images_franja = imagesGraphDB.get_neighbours_by_type_of_node_list(total_lunch_candidates_images_list,'image_filename','franja')\n",
    "df_total_lunch_images = df_total_lunch_candidates_images_franja[df_total_lunch_candidates_images_franja['franja'].isin(['afternoon'])]\n",
    "df_total_lunch_images = pd.merge(df_total_lunch_images,df_total_lunch_candidates_images,on='image_filename')\n",
    "\n",
    "#CENAS\n",
    "df_total_supper_candidates_images = imagesGraphDB.get_neighbours_by_type_of_node_list(list(set(df_supper_detected['fecha'].to_list())),'fecha','image_filename')\n",
    "total_supper_candidates_images_list = df_total_supper_candidates_images['image_filename'].to_list()\n",
    "df_total_supper_candidates_images_franja = imagesGraphDB.get_neighbours_by_type_of_node_list(total_supper_candidates_images_list,'image_filename','franja')\n",
    "df_supper_images_predicted = df_total_supper_candidates_images_franja[df_total_supper_candidates_images_franja['franja'].isin(['night','early_morning'])]\n",
    "df_supper_images_predicted = pd.merge(df_supper_images_predicted,df_total_supper_candidates_images,on='image_filename')"
   ],
   "metadata": {
    "collapsed": false,
    "ExecuteTime": {
     "end_time": "2023-05-21T22:32:36.636926100Z",
     "start_time": "2023-05-21T22:32:36.593434Z"
    }
   }
  },
  {
   "cell_type": "markdown",
   "source": [
    "### 2.1.2. Matrices de confusión"
   ],
   "metadata": {
    "collapsed": false
   }
  },
  {
   "cell_type": "markdown",
   "source": [
    "#### Cenas"
   ],
   "metadata": {
    "collapsed": false
   }
  },
  {
   "cell_type": "markdown",
   "source": [
    "Se prepara un dataframe con las columnas reales y predecidas de cenas"
   ],
   "metadata": {
    "collapsed": false
   }
  },
  {
   "cell_type": "code",
   "execution_count": 59,
   "outputs": [],
   "source": [
    "df_supper_images_predicted['Cena predicted'] = 1\n",
    "df_images_supper_manual = df_images_labeled_manually[['Image','Cena']].copy()\n",
    "df_supper_analysis = df_images_labeled_manually.merge(df_supper_images_predicted , how=\"left\", left_on=\"Image\", right_on=\"image_filename\")\n",
    "# Se informa con valor 0 aquellas imagenes sin detección de rios y lagos\n",
    "# en lugar de NA\n",
    "df_supper_analysis['Cena predicted'] = df_supper_analysis['Cena predicted']. fillna(0)\n",
    "\n",
    "# Se convierte a int la columna ya que se usa como booleano\n",
    "df_supper_analysis['Cena predicted'] = df_supper_analysis['Cena predicted'].astype('int')"
   ],
   "metadata": {
    "collapsed": false,
    "ExecuteTime": {
     "end_time": "2023-05-21T22:36:31.648876300Z",
     "start_time": "2023-05-21T22:36:31.616356100Z"
    }
   }
  },
  {
   "cell_type": "code",
   "execution_count": 62,
   "outputs": [
    {
     "data": {
      "text/plain": "<Figure size 640x480 with 2 Axes>",
      "image/png": "[encoded data removed]"
     },
     "metadata": {},
     "output_type": "display_data"
    }
   ],
   "source": [
    "from sklearn import metrics\n",
    "\n",
    "# Se cargan los resultados de la predicción y el real\n",
    "images_supper_actual= df_supper_analysis['Cena'].to_numpy()\n",
    "images_supper_predicted= df_supper_analysis['Cena predicted'].to_numpy()\n",
    "# Se cargan los datos para generar la matriz de confusión\n",
    "confusion_matrix = metrics.confusion_matrix(images_supper_actual, images_supper_predicted)\n",
    "cm_display = metrics.ConfusionMatrixDisplay(confusion_matrix = confusion_matrix, display_labels = [False, True])\n",
    "# Se muestra el gráfico\n",
    "cm_display.plot()\n",
    "plt.show()"
   ],
   "metadata": {
    "collapsed": false,
    "ExecuteTime": {
     "end_time": "2023-05-21T22:38:18.103236500Z",
     "start_time": "2023-05-21T22:38:17.914720500Z"
    }
   }
  },
  {
   "cell_type": "markdown",
   "source": [
    "### 2.1.3. Métricas"
   ],
   "metadata": {
    "collapsed": false
   }
  },
  {
   "cell_type": "markdown",
   "source": [
    "#### Cenas"
   ],
   "metadata": {
    "collapsed": false
   }
  },
  {
   "cell_type": "code",
   "execution_count": 65,
   "outputs": [
    {
     "data": {
      "text/plain": "{'recall': 0.8,\n 'precision': 0.918918918918919,\n 'accuracy': 0.9831501831501831,\n 'specificity': 0.9953125,\n 'f1_score': 0.8553459119496855}"
     },
     "execution_count": 65,
     "metadata": {},
     "output_type": "execute_result"
    }
   ],
   "source": [
    "analyticsHelper = AnalyticsHelper()\n",
    "metrics = analyticsHelper.getBinaryClassificationConfusionMatrixMetrics(confusion_matrix)\n",
    "metrics"
   ],
   "metadata": {
    "collapsed": false,
    "ExecuteTime": {
     "end_time": "2023-05-21T22:43:28.086212200Z",
     "start_time": "2023-05-21T22:43:28.012302100Z"
    }
   }
  },
  {
   "cell_type": "markdown",
   "source": [
    "## 2.2. CUMPLEAÑOS"
   ],
   "metadata": {
    "collapsed": false
   }
  },
  {
   "cell_type": "code",
   "execution_count": 18,
   "outputs": [],
   "source": [
    "# Se obtiene las imágenes del grafo que se relacionan con los nodos \"person\", \"cake\" y \"candle_light\"\n",
    "object_classes_to_filter = ['person','cake','candle_light'] # Se cogerán las imágenes con pasteles, personas y velas encendidas\n",
    "birhtday_images_list = imagesGraphDB.get_images_containing_list_object_types(object_classes_to_filter)\n",
    "\n",
    "# Se obtienen las fechas de las imagenes de cumpleaños\n",
    "df_birthday_dates = imagesGraphDB.get_neighbours_by_type_of_node_list(birhtday_images_list,'image_filename','fecha')\n",
    "\n",
    "# Se busca el listado de imagenes de esos dias\n",
    "df_birthday_images = imagesGraphDB.get_neighbours_by_type_of_node_list(list(set(df_birthday_dates['fecha'].to_list())),'fecha','image_filename')\n"
   ],
   "metadata": {
    "collapsed": false,
    "ExecuteTime": {
     "end_time": "2023-05-21T19:25:19.377061500Z",
     "start_time": "2023-05-21T19:25:19.355407500Z"
    }
   }
  },
  {
   "cell_type": "markdown",
   "source": [
    "Se obtiene el número de imágenes por fecha de celebración de cumpleaños"
   ],
   "metadata": {
    "collapsed": false
   }
  },
  {
   "cell_type": "code",
   "execution_count": 19,
   "outputs": [
    {
     "data": {
      "text/plain": "           numero_imagenes\nfecha                     \n2021_8_26               31\n2021_9_19                5\n2021_9_6                12\n2022_4_18                4\n2022_9_18               11",
      "text/html": "<div>\n<style scoped>\n    .dataframe tbody tr th:only-of-type {\n        vertical-align: middle;\n    }\n\n    .dataframe tbody tr th {\n        vertical-align: top;\n    }\n\n    .dataframe thead th {\n        text-align: right;\n    }\n</style>\n<table border=\"1\" class=\"dataframe\">\n  <thead>\n    <tr style=\"text-align: right;\">\n      <th></th>\n      <th>numero_imagenes</th>\n    </tr>\n    <tr>\n      <th>fecha</th>\n      <th></th>\n    </tr>\n  </thead>\n  <tbody>\n    <tr>\n      <th>2021_8_26</th>\n      <td>31</td>\n    </tr>\n    <tr>\n      <th>2021_9_19</th>\n      <td>5</td>\n    </tr>\n    <tr>\n      <th>2021_9_6</th>\n      <td>12</td>\n    </tr>\n    <tr>\n      <th>2022_4_18</th>\n      <td>4</td>\n    </tr>\n    <tr>\n      <th>2022_9_18</th>\n      <td>11</td>\n    </tr>\n  </tbody>\n</table>\n</div>"
     },
     "execution_count": 19,
     "metadata": {},
     "output_type": "execute_result"
    }
   ],
   "source": [
    "df_birthday_albumes_proposal = df_birthday_images.groupby(['fecha']).aggregate({'image_filename':'count'})\n",
    "df_birthday_albumes_proposal.rename(columns = {'image_filename':'numero_imagenes'},inplace=True)\n",
    "df_birthday_albumes_proposal"
   ],
   "metadata": {
    "collapsed": false,
    "ExecuteTime": {
     "end_time": "2023-05-21T19:25:21.805589600Z",
     "start_time": "2023-05-21T19:25:21.786545400Z"
    }
   }
  },
  {
   "cell_type": "markdown",
   "source": [
    "Tres de los cinco álbumes de cumpleaños propuestos lo serían realmente. Uno de ellos se trata de una celebración con pastel y el otro es realmente una cena en que se confunde un plato de carne con un pastel. Hay una foto de cumpleaños que no se detecta, pero tres de los cuatro cumpleaños de los que se disponen de imagenes son detectados y propuesto un album."
   ],
   "metadata": {
    "collapsed": false
   }
  },
  {
   "cell_type": "markdown",
   "source": [
    "# 3. ESCENAS"
   ],
   "metadata": {
    "collapsed": false
   }
  },
  {
   "cell_type": "markdown",
   "source": [
    "## 3.1. LAGOS Y RIOS"
   ],
   "metadata": {
    "collapsed": false
   }
  },
  {
   "cell_type": "code",
   "execution_count": 12,
   "outputs": [],
   "source": [
    "# TODO"
   ],
   "metadata": {
    "collapsed": false,
    "ExecuteTime": {
     "end_time": "2023-05-19T22:05:35.839406Z",
     "start_time": "2023-05-19T22:05:35.775945900Z"
    }
   }
  },
  {
   "cell_type": "markdown",
   "source": [
    "# 4. VIAJES"
   ],
   "metadata": {
    "collapsed": false
   }
  },
  {
   "cell_type": "markdown",
   "source": [
    "## 4.1. Agrupados por provincia y año"
   ],
   "metadata": {
    "collapsed": false
   }
  },
  {
   "cell_type": "markdown",
   "source": [
    "Se obtiene la información del grafo de imagenes a más de 100km de la residencia habitual y se complementan con información de la provincia, comunidad autonoma y año."
   ],
   "metadata": {
    "collapsed": false
   }
  },
  {
   "cell_type": "code",
   "execution_count": 10,
   "outputs": [],
   "source": [
    "# Primero se obtienen las imagnes obtenidas en ubicaciones a mas de 100km\n",
    "images = imagesGraphDB.get_images_distance_gt(200)\n",
    "# Se obtienen las provincias de las imagenes a mas de 200km\n",
    "df_province = imagesGraphDB.get_neighbours_by_type_of_node_list(images,'image_filename','provincia')\n",
    "# Se obtiene el año en que fue tomada cada imagen\n",
    "df_year = imagesGraphDB.get_neighbours_by_type_of_node_list(images,'image_filename','anyo')"
   ],
   "metadata": {
    "collapsed": false,
    "ExecuteTime": {
     "end_time": "2023-05-20T22:16:01.864131Z",
     "start_time": "2023-05-20T22:16:01.835842800Z"
    }
   }
  },
  {
   "cell_type": "markdown",
   "source": [
    "Se junta la información en un solo dataframe"
   ],
   "metadata": {
    "collapsed": false
   }
  },
  {
   "cell_type": "code",
   "execution_count": 11,
   "outputs": [
    {
     "data": {
      "text/plain": "          image_filename  provincia  anyo\n0    20210826_195318.jpg      Soria  2021\n1    20210826_195324.jpg      Soria  2021\n2    20210826_195328.jpg      Soria  2021\n3    20210826_200606.jpg      Soria  2021\n4    20210826_200610.jpg      Soria  2021\n..                   ...        ...   ...\n298  20210831_122453.jpg     Burgos  2021\n299  20210831_123216.jpg     Burgos  2021\n300  20210831_130745.jpg     Burgos  2021\n301  20210831_130851.jpg     Burgos  2021\n302  20210901_131702.jpg  Cantabria  2021\n\n[303 rows x 3 columns]",
      "text/html": "<div>\n<style scoped>\n    .dataframe tbody tr th:only-of-type {\n        vertical-align: middle;\n    }\n\n    .dataframe tbody tr th {\n        vertical-align: top;\n    }\n\n    .dataframe thead th {\n        text-align: right;\n    }\n</style>\n<table border=\"1\" class=\"dataframe\">\n  <thead>\n    <tr style=\"text-align: right;\">\n      <th></th>\n      <th>image_filename</th>\n      <th>provincia</th>\n      <th>anyo</th>\n    </tr>\n  </thead>\n  <tbody>\n    <tr>\n      <th>0</th>\n      <td>20210826_195318.jpg</td>\n      <td>Soria</td>\n      <td>2021</td>\n    </tr>\n    <tr>\n      <th>1</th>\n      <td>20210826_195324.jpg</td>\n      <td>Soria</td>\n      <td>2021</td>\n    </tr>\n    <tr>\n      <th>2</th>\n      <td>20210826_195328.jpg</td>\n      <td>Soria</td>\n      <td>2021</td>\n    </tr>\n    <tr>\n      <th>3</th>\n      <td>20210826_200606.jpg</td>\n      <td>Soria</td>\n      <td>2021</td>\n    </tr>\n    <tr>\n      <th>4</th>\n      <td>20210826_200610.jpg</td>\n      <td>Soria</td>\n      <td>2021</td>\n    </tr>\n    <tr>\n      <th>...</th>\n      <td>...</td>\n      <td>...</td>\n      <td>...</td>\n    </tr>\n    <tr>\n      <th>298</th>\n      <td>20210831_122453.jpg</td>\n      <td>Burgos</td>\n      <td>2021</td>\n    </tr>\n    <tr>\n      <th>299</th>\n      <td>20210831_123216.jpg</td>\n      <td>Burgos</td>\n      <td>2021</td>\n    </tr>\n    <tr>\n      <th>300</th>\n      <td>20210831_130745.jpg</td>\n      <td>Burgos</td>\n      <td>2021</td>\n    </tr>\n    <tr>\n      <th>301</th>\n      <td>20210831_130851.jpg</td>\n      <td>Burgos</td>\n      <td>2021</td>\n    </tr>\n    <tr>\n      <th>302</th>\n      <td>20210901_131702.jpg</td>\n      <td>Cantabria</td>\n      <td>2021</td>\n    </tr>\n  </tbody>\n</table>\n<p>303 rows × 3 columns</p>\n</div>"
     },
     "execution_count": 11,
     "metadata": {},
     "output_type": "execute_result"
    }
   ],
   "source": [
    "df_images_albumes = pd.merge(df_province,df_year,on='image_filename')\n",
    "df_images_albumes"
   ],
   "metadata": {
    "collapsed": false,
    "ExecuteTime": {
     "end_time": "2023-05-20T22:16:05.794143700Z",
     "start_time": "2023-05-20T22:16:05.743505300Z"
    }
   }
  },
  {
   "cell_type": "code",
   "execution_count": 13,
   "outputs": [],
   "source": [
    "df_images_albumes['viajes'] = df_images_albumes['provincia'] +'_'+ df_images_albumes['anyo']\n",
    "df_trip_albumes_proposal = df_images_albumes.groupby(['viajes']).aggregate({'image_filename':'count'})\n",
    "df_trip_albumes_proposal.rename(columns = {'image_filename':'numero_imagenes'},inplace=True)\n",
    "df_trip_albumes = df_trip_albumes_proposal[df_trip_albumes_proposal['numero_imagenes']>MIN_IMAGES_TRIP]"
   ],
   "metadata": {
    "collapsed": false,
    "ExecuteTime": {
     "end_time": "2023-05-20T22:16:35.066043700Z",
     "start_time": "2023-05-20T22:16:35.052501400Z"
    }
   }
  },
  {
   "cell_type": "code",
   "execution_count": 14,
   "outputs": [
    {
     "data": {
      "text/plain": "                numero_imagenes\nviajes                         \nBurgos_2021                  65\nCantabria_2021               84\nSoria_2021                  152",
      "text/html": "<div>\n<style scoped>\n    .dataframe tbody tr th:only-of-type {\n        vertical-align: middle;\n    }\n\n    .dataframe tbody tr th {\n        vertical-align: top;\n    }\n\n    .dataframe thead th {\n        text-align: right;\n    }\n</style>\n<table border=\"1\" class=\"dataframe\">\n  <thead>\n    <tr style=\"text-align: right;\">\n      <th></th>\n      <th>numero_imagenes</th>\n    </tr>\n    <tr>\n      <th>viajes</th>\n      <th></th>\n    </tr>\n  </thead>\n  <tbody>\n    <tr>\n      <th>Burgos_2021</th>\n      <td>65</td>\n    </tr>\n    <tr>\n      <th>Cantabria_2021</th>\n      <td>84</td>\n    </tr>\n    <tr>\n      <th>Soria_2021</th>\n      <td>152</td>\n    </tr>\n  </tbody>\n</table>\n</div>"
     },
     "execution_count": 14,
     "metadata": {},
     "output_type": "execute_result"
    }
   ],
   "source": [
    "df_trip_albumes"
   ],
   "metadata": {
    "collapsed": false,
    "ExecuteTime": {
     "end_time": "2023-05-20T22:16:38.287711300Z",
     "start_time": "2023-05-20T22:16:38.253050400Z"
    }
   }
  },
  {
   "cell_type": "markdown",
   "source": [
    "Mediante esta técnica se han detectado tres viajes que forman parte de las vacaciones de verano realizadas en el año 2021 y de las cuales se disponían de coordenadas de latitud y longitud."
   ],
   "metadata": {
    "collapsed": false
   }
  }
 ],
 "metadata": {
  "kernelspec": {
   "display_name": "Python 3",
   "language": "python",
   "name": "python3"
  },
  "language_info": {
   "codemirror_mode": {
    "name": "ipython",
    "version": 2
   },
   "file_extension": ".py",
   "mimetype": "text/x-python",
   "name": "python",
   "nbconvert_exporter": "python",
   "pygments_lexer": "ipython2",
   "version": "2.7.6"
  }
 },
 "nbformat": 4,
 "nbformat_minor": 0
}
