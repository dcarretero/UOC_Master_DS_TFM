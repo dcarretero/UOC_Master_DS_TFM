{
 "cells": [
  {
   "cell_type": "markdown",
   "source": [
    "# GENERADOR DE ALBUMES"
   ],
   "metadata": {
    "collapsed": false
   }
  },
  {
   "cell_type": "markdown",
   "source": [
    "# 0. Importación packages y constantes"
   ],
   "metadata": {
    "collapsed": false
   }
  },
  {
   "cell_type": "code",
   "execution_count": 2,
   "outputs": [],
   "source": [
    "import os.path\n",
    "import pandas as pd\n",
    "import networkx as nx\n",
    "import matplotlib.pyplot as plt\n",
    "from PIL import Image\n",
    "\n",
    "# Packages propios\n",
    "from utils.objectdetection import ObjectDetectionHelper\n",
    "from utils.graphdbmanipulation import ImagesGraphDB\n",
    "from utils.imagesmanipulation import ImageHelper\n",
    "from utils.analytics import AnalyticsHelper"
   ],
   "metadata": {
    "collapsed": false,
    "ExecuteTime": {
     "end_time": "2023-05-26T16:53:55.257135100Z",
     "start_time": "2023-05-26T16:53:55.211091700Z"
    }
   }
  },
  {
   "cell_type": "code",
   "execution_count": 2,
   "outputs": [],
   "source": [
    "# GRAFO DE DETECCIÓN DE OBJETOS COCO y PERSONALIZADOS\n",
    "PATH_COCO_AND_CUSTOM_OBJECTS_GML_FILE = './outputs/graph_databases/graph_OBJECTS_CANDLES.gml'\n",
    "PATH_RIVERS_LAKES_GML_FILE = './outputs/graph_databases/graph_RIVERS_LAKES.gml'\n",
    "PATH_GEO_TIME_GML_FILE = './outputs/graph_databases/graph_GEO_TIME.gml'\n",
    "PATH_FACE_RECOG_GML_FILE = './outputs/graph_databases/graph_FACE_RECOG.gml'\n",
    "MIN_IMAGES_TRIP = 20"
   ],
   "metadata": {
    "collapsed": false,
    "ExecuteTime": {
     "end_time": "2023-05-23T20:47:35.544869500Z",
     "start_time": "2023-05-23T20:47:35.518738700Z"
    }
   }
  },
  {
   "cell_type": "markdown",
   "source": [
    "# 1. CARGA DE GRAFOS EXTRAÍDOS Y DE ETIQUETAS MANUALES"
   ],
   "metadata": {
    "collapsed": false
   }
  },
  {
   "cell_type": "code",
   "execution_count": 3,
   "outputs": [],
   "source": [
    "imagesGraphDB = ImagesGraphDB()\n",
    "imagesGraphDB.load_graph_from_gml_file(PATH_COCO_AND_CUSTOM_OBJECTS_GML_FILE)\n",
    "imagesGraphDB.load_graph_from_gml_file(PATH_RIVERS_LAKES_GML_FILE)\n",
    "imagesGraphDB.load_graph_from_gml_file(PATH_GEO_TIME_GML_FILE)\n",
    "imagesGraphDB.load_graph_from_gml_file(PATH_FACE_RECOG_GML_FILE)"
   ],
   "metadata": {
    "collapsed": false,
    "ExecuteTime": {
     "end_time": "2023-05-23T20:47:37.809524Z",
     "start_time": "2023-05-23T20:47:35.547863500Z"
    }
   }
  },
  {
   "cell_type": "code",
   "execution_count": 4,
   "outputs": [
    {
     "data": {
      "text/plain": "                    Image  Viaje  Comida  Cena  Cumpleaños Retrato  Maria  \\\n0     20210724_100218.jpg      0       0     0           0       0      0   \n1     20210724_104730.jpg      0       0     0           0       0      1   \n2     20210724_104736.jpg      0       0     0           0       0      1   \n3     20210724_104739.jpg      0       0     0           0       0      1   \n4     20210724_104743.jpg      0       0     0           0       0      1   \n5     20210724_104757.jpg      0       0     0           0       0      1   \n6     20210724_200143.jpg      0       0     0           0       1      1   \n7     20210724_200145.jpg      0       0     0           0       1      1   \n8  20210724_200231_02.jpg      0       0     0           0       1      1   \n9  20210724_200231_03.jpg      0       0     0           0       1      1   \n\n   Biel   Yo  Piscina  ...  Tenedor  Cuchillo Cuchara bowl  pastel  silla  \\\n0      1   0        0  ...        0         0       0    0       0      1   \n1      1   0        1  ...        0         0       0    0       0      0   \n2      1   0        1  ...        0         0       0    0       0      0   \n3      1   0        1  ...        0         0       0    0       0      0   \n4      1   0        1  ...        0         0       0    0       0      0   \n5      1   0        1  ...        0         0       0    0       0      0   \n6      0   1        0  ...        0         0       0    0       0      1   \n7      0   1        0  ...        0         0       0    0       0      1   \n8      0   1        0  ...        0         0       0    0       0      1   \n9      0   1        0  ...        0         0       0    0       0      1   \n\n   Mesa  Plato  Vaso  Llama vela  \n0     1      1     0           0  \n1     0      0     0           0  \n2     0      0     0           0  \n3     0      0     0           0  \n4     0      0     0           0  \n5     0      0     0           0  \n6     1      0     0           0  \n7     1      0     0           0  \n8     1      0     0           0  \n9     0      0     0           0  \n\n[10 rows x 27 columns]",
      "text/html": "<div>\n<style scoped>\n    .dataframe tbody tr th:only-of-type {\n        vertical-align: middle;\n    }\n\n    .dataframe tbody tr th {\n        vertical-align: top;\n    }\n\n    .dataframe thead th {\n        text-align: right;\n    }\n</style>\n<table border=\"1\" class=\"dataframe\">\n  <thead>\n    <tr style=\"text-align: right;\">\n      <th></th>\n      <th>Image</th>\n      <th>Viaje</th>\n      <th>Comida</th>\n      <th>Cena</th>\n      <th>Cumpleaños</th>\n      <th>Retrato</th>\n      <th>Maria</th>\n      <th>Biel</th>\n      <th>Yo</th>\n      <th>Piscina</th>\n      <th>...</th>\n      <th>Tenedor</th>\n      <th>Cuchillo</th>\n      <th>Cuchara</th>\n      <th>bowl</th>\n      <th>pastel</th>\n      <th>silla</th>\n      <th>Mesa</th>\n      <th>Plato</th>\n      <th>Vaso</th>\n      <th>Llama vela</th>\n    </tr>\n  </thead>\n  <tbody>\n    <tr>\n      <th>0</th>\n      <td>20210724_100218.jpg</td>\n      <td>0</td>\n      <td>0</td>\n      <td>0</td>\n      <td>0</td>\n      <td>0</td>\n      <td>0</td>\n      <td>1</td>\n      <td>0</td>\n      <td>0</td>\n      <td>...</td>\n      <td>0</td>\n      <td>0</td>\n      <td>0</td>\n      <td>0</td>\n      <td>0</td>\n      <td>1</td>\n      <td>1</td>\n      <td>1</td>\n      <td>0</td>\n      <td>0</td>\n    </tr>\n    <tr>\n      <th>1</th>\n      <td>20210724_104730.jpg</td>\n      <td>0</td>\n      <td>0</td>\n      <td>0</td>\n      <td>0</td>\n      <td>0</td>\n      <td>1</td>\n      <td>1</td>\n      <td>0</td>\n      <td>1</td>\n      <td>...</td>\n      <td>0</td>\n      <td>0</td>\n      <td>0</td>\n      <td>0</td>\n      <td>0</td>\n      <td>0</td>\n      <td>0</td>\n      <td>0</td>\n      <td>0</td>\n      <td>0</td>\n    </tr>\n    <tr>\n      <th>2</th>\n      <td>20210724_104736.jpg</td>\n      <td>0</td>\n      <td>0</td>\n      <td>0</td>\n      <td>0</td>\n      <td>0</td>\n      <td>1</td>\n      <td>1</td>\n      <td>0</td>\n      <td>1</td>\n      <td>...</td>\n      <td>0</td>\n      <td>0</td>\n      <td>0</td>\n      <td>0</td>\n      <td>0</td>\n      <td>0</td>\n      <td>0</td>\n      <td>0</td>\n      <td>0</td>\n      <td>0</td>\n    </tr>\n    <tr>\n      <th>3</th>\n      <td>20210724_104739.jpg</td>\n      <td>0</td>\n      <td>0</td>\n      <td>0</td>\n      <td>0</td>\n      <td>0</td>\n      <td>1</td>\n      <td>1</td>\n      <td>0</td>\n      <td>1</td>\n      <td>...</td>\n      <td>0</td>\n      <td>0</td>\n      <td>0</td>\n      <td>0</td>\n      <td>0</td>\n      <td>0</td>\n      <td>0</td>\n      <td>0</td>\n      <td>0</td>\n      <td>0</td>\n    </tr>\n    <tr>\n      <th>4</th>\n      <td>20210724_104743.jpg</td>\n      <td>0</td>\n      <td>0</td>\n      <td>0</td>\n      <td>0</td>\n      <td>0</td>\n      <td>1</td>\n      <td>1</td>\n      <td>0</td>\n      <td>1</td>\n      <td>...</td>\n      <td>0</td>\n      <td>0</td>\n      <td>0</td>\n      <td>0</td>\n      <td>0</td>\n      <td>0</td>\n      <td>0</td>\n      <td>0</td>\n      <td>0</td>\n      <td>0</td>\n    </tr>\n    <tr>\n      <th>5</th>\n      <td>20210724_104757.jpg</td>\n      <td>0</td>\n      <td>0</td>\n      <td>0</td>\n      <td>0</td>\n      <td>0</td>\n      <td>1</td>\n      <td>1</td>\n      <td>0</td>\n      <td>1</td>\n      <td>...</td>\n      <td>0</td>\n      <td>0</td>\n      <td>0</td>\n      <td>0</td>\n      <td>0</td>\n      <td>0</td>\n      <td>0</td>\n      <td>0</td>\n      <td>0</td>\n      <td>0</td>\n    </tr>\n    <tr>\n      <th>6</th>\n      <td>20210724_200143.jpg</td>\n      <td>0</td>\n      <td>0</td>\n      <td>0</td>\n      <td>0</td>\n      <td>1</td>\n      <td>1</td>\n      <td>0</td>\n      <td>1</td>\n      <td>0</td>\n      <td>...</td>\n      <td>0</td>\n      <td>0</td>\n      <td>0</td>\n      <td>0</td>\n      <td>0</td>\n      <td>1</td>\n      <td>1</td>\n      <td>0</td>\n      <td>0</td>\n      <td>0</td>\n    </tr>\n    <tr>\n      <th>7</th>\n      <td>20210724_200145.jpg</td>\n      <td>0</td>\n      <td>0</td>\n      <td>0</td>\n      <td>0</td>\n      <td>1</td>\n      <td>1</td>\n      <td>0</td>\n      <td>1</td>\n      <td>0</td>\n      <td>...</td>\n      <td>0</td>\n      <td>0</td>\n      <td>0</td>\n      <td>0</td>\n      <td>0</td>\n      <td>1</td>\n      <td>1</td>\n      <td>0</td>\n      <td>0</td>\n      <td>0</td>\n    </tr>\n    <tr>\n      <th>8</th>\n      <td>20210724_200231_02.jpg</td>\n      <td>0</td>\n      <td>0</td>\n      <td>0</td>\n      <td>0</td>\n      <td>1</td>\n      <td>1</td>\n      <td>0</td>\n      <td>1</td>\n      <td>0</td>\n      <td>...</td>\n      <td>0</td>\n      <td>0</td>\n      <td>0</td>\n      <td>0</td>\n      <td>0</td>\n      <td>1</td>\n      <td>1</td>\n      <td>0</td>\n      <td>0</td>\n      <td>0</td>\n    </tr>\n    <tr>\n      <th>9</th>\n      <td>20210724_200231_03.jpg</td>\n      <td>0</td>\n      <td>0</td>\n      <td>0</td>\n      <td>0</td>\n      <td>1</td>\n      <td>1</td>\n      <td>0</td>\n      <td>1</td>\n      <td>0</td>\n      <td>...</td>\n      <td>0</td>\n      <td>0</td>\n      <td>0</td>\n      <td>0</td>\n      <td>0</td>\n      <td>1</td>\n      <td>0</td>\n      <td>0</td>\n      <td>0</td>\n      <td>0</td>\n    </tr>\n  </tbody>\n</table>\n<p>10 rows × 27 columns</p>\n</div>"
     },
     "execution_count": 4,
     "metadata": {},
     "output_type": "execute_result"
    }
   ],
   "source": [
    "df_images_labeled_manually = pd.read_excel('./resources/manual_labels/etiquetado_manual_imagenes.xlsx',skiprows=1)\n",
    "df_images_labeled_manually.head(10)"
   ],
   "metadata": {
    "collapsed": false,
    "ExecuteTime": {
     "end_time": "2023-05-23T20:47:40.050788400Z",
     "start_time": "2023-05-23T20:47:37.811522400Z"
    }
   }
  },
  {
   "cell_type": "markdown",
   "source": [
    "# 2. EVENTOS"
   ],
   "metadata": {
    "collapsed": false
   }
  },
  {
   "cell_type": "markdown",
   "source": [
    "## 2.1. COMIDAS Y CENAS"
   ],
   "metadata": {
    "collapsed": false
   }
  },
  {
   "cell_type": "markdown",
   "source": [
    "### 2.1.1. Obtención de las imagenes predecidas de comidas y cenas"
   ],
   "metadata": {
    "collapsed": false
   }
  },
  {
   "cell_type": "markdown",
   "source": [
    "El algoritmo utilizado se basaria en los siguientes pasos:\n",
    "- encontrar imagenes que contengan mesas, botellas y vasos de vino\n",
    "- obtener el dia en que fueron tomadas esas fotos y en que franja horaria (madrugada, mañana, tarde o noche)\n",
    "- obtener el resto de fotos de esos dias y franjas horarias, al ser muy probables que pertenezcan al mismo evento comida o cena."
   ],
   "metadata": {
    "collapsed": false
   }
  },
  {
   "cell_type": "code",
   "execution_count": 32,
   "outputs": [],
   "source": [
    "# Creo función para detectar intersecciones en listas\n",
    "def intersection(lst1, lst2):\n",
    "    lst3 = [value for value in lst1 if value in lst2]\n",
    "    return lst3"
   ],
   "metadata": {
    "collapsed": false,
    "ExecuteTime": {
     "end_time": "2023-05-22T14:13:52.612551200Z",
     "start_time": "2023-05-22T14:13:52.580812Z"
    }
   }
  },
  {
   "cell_type": "code",
   "execution_count": 33,
   "outputs": [],
   "source": [
    "# Se obtiene las imágenes del grafo que se relacionan con los nodos \"dining table\",\"bottle\" y \"wine glass\"\n",
    "object_classes_to_filter = ['dining table'] # Se cogerán las imágenes con pasteles, personas y velas encendidas\n",
    "dining_table_images_list = imagesGraphDB.get_images_containing_list_object_types(['dining table'])\n",
    "bottle_images_list = imagesGraphDB.get_images_containing_list_object_types(['bottle'])\n",
    "wine_glass_list = imagesGraphDB.get_images_containing_list_object_types(['wine glass'])\n",
    "\n",
    "# Se busca la intersección de los tres conjuntos de imágenes\n",
    "lunch_dinner_detected_list = intersection(dining_table_images_list,bottle_images_list)\n",
    "lunch_dinner_detected_list = intersection(lunch_dinner_detected_list,wine_glass_list)\n"
   ],
   "metadata": {
    "collapsed": false,
    "ExecuteTime": {
     "end_time": "2023-05-22T14:14:16.186840100Z",
     "start_time": "2023-05-22T14:14:16.139441700Z"
    }
   }
  },
  {
   "cell_type": "code",
   "execution_count": 34,
   "outputs": [],
   "source": [
    "# Se buscan las fechas\n",
    "df_lunch_dinner_detected_dates = imagesGraphDB.get_neighbours_by_type_of_node_list(lunch_dinner_detected_list,'image_filename','fecha')\n",
    "# Se obtienen las franjas de los conjuntos de imágenes obtenidos\n",
    "df_lunch_dinner_detected_franjas = imagesGraphDB.get_neighbours_by_type_of_node_list(lunch_dinner_detected_list,'image_filename','franja')"
   ],
   "metadata": {
    "collapsed": false,
    "ExecuteTime": {
     "end_time": "2023-05-22T14:14:17.722237700Z",
     "start_time": "2023-05-22T14:14:17.690900600Z"
    }
   }
  },
  {
   "cell_type": "code",
   "execution_count": 35,
   "outputs": [],
   "source": [
    "# Se cruzan los datos de franjas horarias y fechas\n",
    "df_lunch_dinner_detected = pd.merge(df_lunch_dinner_detected_dates,df_lunch_dinner_detected_franjas,on='image_filename')"
   ],
   "metadata": {
    "collapsed": false,
    "ExecuteTime": {
     "end_time": "2023-05-22T14:14:18.889716500Z",
     "start_time": "2023-05-22T14:14:18.842324900Z"
    }
   }
  },
  {
   "cell_type": "code",
   "execution_count": 36,
   "outputs": [],
   "source": [
    "# Se separan las imágenes de comidas y cenas detectadas en función de las franjas horarias\n",
    "df_lunch_detected = df_lunch_dinner_detected[df_lunch_dinner_detected['franja']=='afternoon']\n",
    "df_supper_detected = df_lunch_dinner_detected[df_lunch_dinner_detected['franja'].isin(['night','early_morning'])]"
   ],
   "metadata": {
    "collapsed": false,
    "ExecuteTime": {
     "end_time": "2023-05-22T14:14:19.848353800Z",
     "start_time": "2023-05-22T14:14:19.835267Z"
    }
   }
  },
  {
   "cell_type": "code",
   "execution_count": 37,
   "outputs": [],
   "source": [
    "# Se busca el listado de imagenes en los mismos días y franjas horarias porque se considera probable que pertenezcan al mismo evento de comida o cena\n",
    "\n",
    "# COMIDAS\n",
    "df_total_lunch_candidates_images = imagesGraphDB.get_neighbours_by_type_of_node_list(list(set(df_lunch_detected['fecha'].to_list())),'fecha','image_filename')\n",
    "total_lunch_candidates_images_list = df_total_lunch_candidates_images['image_filename'].to_list()\n",
    "df_total_lunch_candidates_images_franja = imagesGraphDB.get_neighbours_by_type_of_node_list(total_lunch_candidates_images_list,'image_filename','franja')\n",
    "df_lunch_images_predicted = df_total_lunch_candidates_images_franja[df_total_lunch_candidates_images_franja['franja'].isin(['afternoon'])]\n",
    "df_lunch_images_predicted = pd.merge(df_lunch_images_predicted,df_total_lunch_candidates_images,on='image_filename')\n",
    "\n",
    "#CENAS\n",
    "df_total_supper_candidates_images = imagesGraphDB.get_neighbours_by_type_of_node_list(list(set(df_supper_detected['fecha'].to_list())),'fecha','image_filename')\n",
    "total_supper_candidates_images_list = df_total_supper_candidates_images['image_filename'].to_list()\n",
    "df_total_supper_candidates_images_franja = imagesGraphDB.get_neighbours_by_type_of_node_list(total_supper_candidates_images_list,'image_filename','franja')\n",
    "df_supper_images_predicted = df_total_supper_candidates_images_franja[df_total_supper_candidates_images_franja['franja'].isin(['night','early_morning'])]\n",
    "df_supper_images_predicted = pd.merge(df_supper_images_predicted,df_total_supper_candidates_images,on='image_filename')"
   ],
   "metadata": {
    "collapsed": false,
    "ExecuteTime": {
     "end_time": "2023-05-22T14:14:20.858570400Z",
     "start_time": "2023-05-22T14:14:20.817660100Z"
    }
   }
  },
  {
   "cell_type": "markdown",
   "source": [
    "### 2.1.2. Matrices de confusión y métricas"
   ],
   "metadata": {
    "collapsed": false
   }
  },
  {
   "cell_type": "markdown",
   "source": [
    "#### Cenas"
   ],
   "metadata": {
    "collapsed": false
   }
  },
  {
   "cell_type": "markdown",
   "source": [
    "Se prepara un dataframe con las columnas reales y predecidas de cenas"
   ],
   "metadata": {
    "collapsed": false
   }
  },
  {
   "cell_type": "code",
   "execution_count": 38,
   "outputs": [],
   "source": [
    "df_supper_images_predicted['Cena predicted'] = 1\n",
    "df_images_supper_manual = df_images_labeled_manually[['Image','Cena']].copy()\n",
    "df_supper_analysis = df_images_labeled_manually.merge(df_supper_images_predicted , how=\"left\", left_on=\"Image\", right_on=\"image_filename\")\n",
    "# Se informa con valor 0 aquellas imagenes sin detección de rios y lagos\n",
    "# en lugar de NA\n",
    "df_supper_analysis['Cena predicted'] = df_supper_analysis['Cena predicted']. fillna(0)\n",
    "\n",
    "# Se convierte a int la columna ya que se usa como booleano\n",
    "df_supper_analysis['Cena predicted'] = df_supper_analysis['Cena predicted'].astype('int')"
   ],
   "metadata": {
    "collapsed": false,
    "ExecuteTime": {
     "end_time": "2023-05-22T14:14:25.176621500Z",
     "start_time": "2023-05-22T14:14:25.160548900Z"
    }
   }
  },
  {
   "cell_type": "code",
   "execution_count": 39,
   "outputs": [
    {
     "data": {
      "text/plain": "<Figure size 640x480 with 2 Axes>",
      "image/png": "[encoded data removed]"
     },
     "metadata": {},
     "output_type": "display_data"
    }
   ],
   "source": [
    "from sklearn import metrics\n",
    "%matplotlib inline\n",
    "# Se cargan los resultados de la predicción y el real\n",
    "images_supper_actual= df_supper_analysis['Cena'].to_numpy()\n",
    "images_supper_predicted= df_supper_analysis['Cena predicted'].to_numpy()\n",
    "# Se cargan los datos para generar la matriz de confusión\n",
    "confusion_matrix = metrics.confusion_matrix(images_supper_actual, images_supper_predicted)\n",
    "cm_display = metrics.ConfusionMatrixDisplay(confusion_matrix = confusion_matrix, display_labels = [False, True])\n",
    "# Se muestra el gráfico\n",
    "cm_display.plot()\n",
    "plt.show()"
   ],
   "metadata": {
    "collapsed": false,
    "ExecuteTime": {
     "end_time": "2023-05-22T14:14:26.361922700Z",
     "start_time": "2023-05-22T14:14:26.202365200Z"
    }
   }
  },
  {
   "cell_type": "markdown",
   "source": [
    "Se obtienen las métricas"
   ],
   "metadata": {
    "collapsed": false
   }
  },
  {
   "cell_type": "code",
   "execution_count": 40,
   "outputs": [
    {
     "data": {
      "text/plain": "{'recall': 0.8,\n 'precision': 0.918918918918919,\n 'accuracy': 0.9831501831501831,\n 'specificity': 0.9953125,\n 'f1_score': 0.8553459119496855}"
     },
     "execution_count": 40,
     "metadata": {},
     "output_type": "execute_result"
    }
   ],
   "source": [
    "analyticsHelper = AnalyticsHelper()\n",
    "metrics = analyticsHelper.getBinaryClassificationConfusionMatrixMetrics(confusion_matrix)\n",
    "metrics"
   ],
   "metadata": {
    "collapsed": false,
    "ExecuteTime": {
     "end_time": "2023-05-22T14:14:28.638605600Z",
     "start_time": "2023-05-22T14:14:28.622972800Z"
    }
   }
  },
  {
   "cell_type": "markdown",
   "source": [
    "#### Comidas"
   ],
   "metadata": {
    "collapsed": false
   }
  },
  {
   "cell_type": "code",
   "execution_count": 43,
   "outputs": [],
   "source": [
    "df_lunch_images_predicted['Comida predicted'] = 1\n",
    "df_images_lunch_manual = df_images_labeled_manually[['Image','Comida']].copy()\n",
    "df_lunch_analysis = df_images_labeled_manually.merge(df_lunch_images_predicted , how=\"left\", left_on=\"Image\", right_on=\"image_filename\")\n",
    "# Se informa con valor 0 aquellas imagenes sin detección de rios y lagos\n",
    "# en lugar de NA\n",
    "df_lunch_analysis['Comida predicted'] = df_lunch_analysis['Comida predicted']. fillna(0)\n",
    "\n",
    "# Se convierte a int la columna ya que se usa como booleano\n",
    "df_lunch_analysis['Comida predicted'] = df_lunch_analysis['Comida predicted'].astype('int')"
   ],
   "metadata": {
    "collapsed": false,
    "ExecuteTime": {
     "end_time": "2023-05-22T14:16:02.752533800Z",
     "start_time": "2023-05-22T14:16:02.736808800Z"
    }
   }
  },
  {
   "cell_type": "code",
   "execution_count": 44,
   "outputs": [
    {
     "data": {
      "text/plain": "<Figure size 640x480 with 2 Axes>",
      "image/png": "[encoded data removed]"
     },
     "metadata": {},
     "output_type": "display_data"
    }
   ],
   "source": [
    "from sklearn import metrics\n",
    "\n",
    "# Se cargan los resultados de la predicción y el real\n",
    "images_lunch_actual= df_lunch_analysis['Comida'].to_numpy()\n",
    "images_lunch_predicted= df_lunch_analysis['Comida predicted'].to_numpy()\n",
    "# Se cargan los datos para generar la matriz de confusión\n",
    "confusion_matrix = metrics.confusion_matrix(images_lunch_actual, images_lunch_predicted)\n",
    "cm_display = metrics.ConfusionMatrixDisplay(confusion_matrix = confusion_matrix, display_labels = [False, True])\n",
    "# Se muestra el gráfico\n",
    "cm_display.plot()\n",
    "plt.show()"
   ],
   "metadata": {
    "collapsed": false,
    "ExecuteTime": {
     "end_time": "2023-05-22T14:16:04.868102600Z",
     "start_time": "2023-05-22T14:16:04.727278800Z"
    }
   }
  },
  {
   "cell_type": "markdown",
   "source": [
    "Se obtienen las métricas"
   ],
   "metadata": {
    "collapsed": false
   }
  },
  {
   "cell_type": "code",
   "execution_count": 45,
   "outputs": [
    {
     "data": {
      "text/plain": "{'recall': 0.49056603773584906,\n 'precision': 0.1897810218978102,\n 'accuracy': 0.8989010989010989,\n 'specificity': 0.9153963414634146,\n 'f1_score': 0.2736842105263158}"
     },
     "execution_count": 45,
     "metadata": {},
     "output_type": "execute_result"
    }
   ],
   "source": [
    "analyticsHelper = AnalyticsHelper()\n",
    "metrics = analyticsHelper.getBinaryClassificationConfusionMatrixMetrics(confusion_matrix)\n",
    "metrics"
   ],
   "metadata": {
    "collapsed": false,
    "ExecuteTime": {
     "end_time": "2023-05-22T14:16:10.263317600Z",
     "start_time": "2023-05-22T14:16:10.198349600Z"
    }
   }
  },
  {
   "cell_type": "markdown",
   "source": [
    "### 2.1.3. Albumes agrupados por dia"
   ],
   "metadata": {
    "collapsed": false
   }
  },
  {
   "cell_type": "markdown",
   "source": [
    "#### Cenas"
   ],
   "metadata": {
    "collapsed": false
   }
  },
  {
   "cell_type": "code",
   "execution_count": 53,
   "outputs": [
    {
     "data": {
      "text/plain": "                 image_filename\nEvento                         \nCena_2021_11_20              33\nCena_2021_12_31              11\nCena_2021_8_25                2\nCena_2021_9_2                 4\nCena_2021_9_4                 7\nCena_2022_12_23               1\nCena_2022_1_1                15\nCena_2022_7_28                1",
      "text/html": "<div>\n<style scoped>\n    .dataframe tbody tr th:only-of-type {\n        vertical-align: middle;\n    }\n\n    .dataframe tbody tr th {\n        vertical-align: top;\n    }\n\n    .dataframe thead th {\n        text-align: right;\n    }\n</style>\n<table border=\"1\" class=\"dataframe\">\n  <thead>\n    <tr style=\"text-align: right;\">\n      <th></th>\n      <th>image_filename</th>\n    </tr>\n    <tr>\n      <th>Evento</th>\n      <th></th>\n    </tr>\n  </thead>\n  <tbody>\n    <tr>\n      <th>Cena_2021_11_20</th>\n      <td>33</td>\n    </tr>\n    <tr>\n      <th>Cena_2021_12_31</th>\n      <td>11</td>\n    </tr>\n    <tr>\n      <th>Cena_2021_8_25</th>\n      <td>2</td>\n    </tr>\n    <tr>\n      <th>Cena_2021_9_2</th>\n      <td>4</td>\n    </tr>\n    <tr>\n      <th>Cena_2021_9_4</th>\n      <td>7</td>\n    </tr>\n    <tr>\n      <th>Cena_2022_12_23</th>\n      <td>1</td>\n    </tr>\n    <tr>\n      <th>Cena_2022_1_1</th>\n      <td>15</td>\n    </tr>\n    <tr>\n      <th>Cena_2022_7_28</th>\n      <td>1</td>\n    </tr>\n  </tbody>\n</table>\n</div>"
     },
     "execution_count": 53,
     "metadata": {},
     "output_type": "execute_result"
    }
   ],
   "source": [
    "df_supper_images_predicted['Evento'] = \"Cena_\" + df_supper_images_predicted[['fecha']]\n",
    "df_supper_albumes = df_supper_images_predicted.groupby(['Evento']).aggregate({'image_filename':'count'})\n",
    "df_supper_albumes"
   ],
   "metadata": {
    "collapsed": false,
    "ExecuteTime": {
     "end_time": "2023-05-22T15:11:03.736207900Z",
     "start_time": "2023-05-22T15:11:03.689176300Z"
    }
   }
  },
  {
   "cell_type": "markdown",
   "source": [
    "#### Comidas"
   ],
   "metadata": {
    "collapsed": false
   }
  },
  {
   "cell_type": "code",
   "execution_count": 54,
   "outputs": [
    {
     "data": {
      "text/plain": "                  image_filename\nEvento                          \nComida_2021_8_15               3\nComida_2021_8_27             105\nComida_2022_5_8                2\nComida_2022_7_31               4\nComida_2022_8_31              23",
      "text/html": "<div>\n<style scoped>\n    .dataframe tbody tr th:only-of-type {\n        vertical-align: middle;\n    }\n\n    .dataframe tbody tr th {\n        vertical-align: top;\n    }\n\n    .dataframe thead th {\n        text-align: right;\n    }\n</style>\n<table border=\"1\" class=\"dataframe\">\n  <thead>\n    <tr style=\"text-align: right;\">\n      <th></th>\n      <th>image_filename</th>\n    </tr>\n    <tr>\n      <th>Evento</th>\n      <th></th>\n    </tr>\n  </thead>\n  <tbody>\n    <tr>\n      <th>Comida_2021_8_15</th>\n      <td>3</td>\n    </tr>\n    <tr>\n      <th>Comida_2021_8_27</th>\n      <td>105</td>\n    </tr>\n    <tr>\n      <th>Comida_2022_5_8</th>\n      <td>2</td>\n    </tr>\n    <tr>\n      <th>Comida_2022_7_31</th>\n      <td>4</td>\n    </tr>\n    <tr>\n      <th>Comida_2022_8_31</th>\n      <td>23</td>\n    </tr>\n  </tbody>\n</table>\n</div>"
     },
     "execution_count": 54,
     "metadata": {},
     "output_type": "execute_result"
    }
   ],
   "source": [
    "df_lunch_images_predicted['Evento'] = \"Comida_\" + df_lunch_images_predicted[['fecha']]\n",
    "df_lunch_albumes = df_lunch_images_predicted.groupby(['Evento']).aggregate({'image_filename':'count'})\n",
    "df_lunch_albumes"
   ],
   "metadata": {
    "collapsed": false,
    "ExecuteTime": {
     "end_time": "2023-05-22T15:13:12.589870900Z",
     "start_time": "2023-05-22T15:13:12.558446100Z"
    }
   }
  },
  {
   "cell_type": "markdown",
   "source": [
    "## 2.2. CUMPLEAÑOS"
   ],
   "metadata": {
    "collapsed": false
   }
  },
  {
   "cell_type": "markdown",
   "source": [
    "### 2.2.1. Obtención de imagenes predecidas"
   ],
   "metadata": {
    "collapsed": false
   }
  },
  {
   "cell_type": "code",
   "execution_count": 18,
   "outputs": [],
   "source": [
    "# Se obtiene las imágenes del grafo que se relacionan con los nodos \"person\", \"cake\" y \"candle_light\"\n",
    "object_classes_to_filter = ['person','cake','candle_light'] # Se cogerán las imágenes con pasteles, personas y velas encendidas\n",
    "birhtday_images_list = imagesGraphDB.get_images_containing_list_object_types(object_classes_to_filter)\n",
    "\n",
    "# Se obtienen las fechas de las imagenes de cumpleaños\n",
    "df_birthday_dates = imagesGraphDB.get_neighbours_by_type_of_node_list(birhtday_images_list,'image_filename','fecha')\n",
    "\n",
    "# Se busca el listado de imagenes de esos dias\n",
    "df_birthday_images = imagesGraphDB.get_neighbours_by_type_of_node_list(list(set(df_birthday_dates['fecha'].to_list())),'fecha','image_filename')\n"
   ],
   "metadata": {
    "collapsed": false,
    "ExecuteTime": {
     "end_time": "2023-05-21T19:25:19.377061500Z",
     "start_time": "2023-05-21T19:25:19.355407500Z"
    }
   }
  },
  {
   "cell_type": "markdown",
   "source": [
    "### 2.2.2. Albumes de cumpleaños por dia"
   ],
   "metadata": {
    "collapsed": false
   }
  },
  {
   "cell_type": "markdown",
   "source": [
    "Se obtiene el número de imágenes por fecha de celebración de cumpleaños"
   ],
   "metadata": {
    "collapsed": false
   }
  },
  {
   "cell_type": "code",
   "execution_count": 19,
   "outputs": [
    {
     "data": {
      "text/plain": "           numero_imagenes\nfecha                     \n2021_8_26               31\n2021_9_19                5\n2021_9_6                12\n2022_4_18                4\n2022_9_18               11",
      "text/html": "<div>\n<style scoped>\n    .dataframe tbody tr th:only-of-type {\n        vertical-align: middle;\n    }\n\n    .dataframe tbody tr th {\n        vertical-align: top;\n    }\n\n    .dataframe thead th {\n        text-align: right;\n    }\n</style>\n<table border=\"1\" class=\"dataframe\">\n  <thead>\n    <tr style=\"text-align: right;\">\n      <th></th>\n      <th>numero_imagenes</th>\n    </tr>\n    <tr>\n      <th>fecha</th>\n      <th></th>\n    </tr>\n  </thead>\n  <tbody>\n    <tr>\n      <th>2021_8_26</th>\n      <td>31</td>\n    </tr>\n    <tr>\n      <th>2021_9_19</th>\n      <td>5</td>\n    </tr>\n    <tr>\n      <th>2021_9_6</th>\n      <td>12</td>\n    </tr>\n    <tr>\n      <th>2022_4_18</th>\n      <td>4</td>\n    </tr>\n    <tr>\n      <th>2022_9_18</th>\n      <td>11</td>\n    </tr>\n  </tbody>\n</table>\n</div>"
     },
     "execution_count": 19,
     "metadata": {},
     "output_type": "execute_result"
    }
   ],
   "source": [
    "df_birthday_albumes_proposal = df_birthday_images.groupby(['fecha']).aggregate({'image_filename':'count'})\n",
    "df_birthday_albumes_proposal.rename(columns = {'image_filename':'numero_imagenes'},inplace=True)\n",
    "df_birthday_albumes_proposal"
   ],
   "metadata": {
    "collapsed": false,
    "ExecuteTime": {
     "end_time": "2023-05-21T19:25:21.805589600Z",
     "start_time": "2023-05-21T19:25:21.786545400Z"
    }
   }
  },
  {
   "cell_type": "markdown",
   "source": [
    "Tres de los cinco álbumes de cumpleaños propuestos lo serían realmente. Uno de ellos se trata de una celebración con pastel y el otro es realmente una cena en que se confunde un plato de carne con un pastel. Hay una foto de cumpleaños que no se detecta, pero tres de los cuatro cumpleaños de los que se disponen de imagenes son detectados y propuesto un album."
   ],
   "metadata": {
    "collapsed": false
   }
  },
  {
   "cell_type": "markdown",
   "source": [
    "# 3. ESCENAS"
   ],
   "metadata": {
    "collapsed": false
   }
  },
  {
   "cell_type": "markdown",
   "source": [
    "## 3.1. LAGOS Y RIOS"
   ],
   "metadata": {
    "collapsed": false
   }
  },
  {
   "cell_type": "markdown",
   "source": [
    "### 3.1.1. Obtención de imagenes predecidas"
   ],
   "metadata": {
    "collapsed": false
   }
  },
  {
   "cell_type": "code",
   "execution_count": 67,
   "outputs": [],
   "source": [
    "# Se cargan las imágenes que han sido detectadas en ambos modelos de detección de rios y lagos\n",
    "rivers_lakes_images_list = imagesGraphDB.get_images_containing_list_object_types_with_min_confidence(['water','water2'],[0.7,0.7])\n",
    "df_rivers_lakes_images_months = imagesGraphDB.get_neighbours_by_type_of_node_list(rivers_lakes_images_list,'image_filename','mes')\n",
    "df_rivers_lakes_images_year = imagesGraphDB.get_neighbours_by_type_of_node_list(rivers_lakes_images_list,'image_filename','anyo')\n"
   ],
   "metadata": {
    "collapsed": false,
    "ExecuteTime": {
     "end_time": "2023-05-22T22:27:50.764428Z",
     "start_time": "2023-05-22T22:27:50.727086400Z"
    }
   }
  },
  {
   "cell_type": "code",
   "execution_count": 75,
   "outputs": [],
   "source": [
    "# Se obtiene un dataframe que especifique el año y el mes de cada imagen\n",
    "df_rivers_lakes_images = pd.merge(df_rivers_lakes_images_year,df_rivers_lakes_images_months,on='image_filename')\n",
    "# Se le añade la columna \"album\"\n",
    "df_rivers_lakes_images['Escena'] = 'rivers_lakes_'+df_rivers_lakes_images['mes'] +'_'+df_rivers_lakes_images['anyo']"
   ],
   "metadata": {
    "collapsed": false,
    "ExecuteTime": {
     "end_time": "2023-05-22T22:32:54.882889600Z",
     "start_time": "2023-05-22T22:32:54.858139500Z"
    }
   }
  },
  {
   "cell_type": "code",
   "execution_count": 78,
   "outputs": [
    {
     "data": {
      "text/plain": "         image_filename  anyo mes              Escena\n0   20210731_145146.jpg  2021   7   river_lake_7_2021\n1   20210731_145608.jpg  2021   7   river_lake_7_2021\n2   20210826_201433.jpg  2021   8   river_lake_8_2021\n3   20210826_201434.jpg  2021   8   river_lake_8_2021\n4   20210827_120642.jpg  2021   8   river_lake_8_2021\n..                  ...   ...  ..                 ...\n67  20210903_105241.jpg  2021   9   river_lake_9_2021\n68  20210903_200124.jpg  2021   9   river_lake_9_2021\n69  20210903_200317.jpg  2021   9   river_lake_9_2021\n70  20210904_113705.jpg  2021   9   river_lake_9_2021\n71  20221022_104027.jpg  2022  10  river_lake_10_2022\n\n[72 rows x 4 columns]",
      "text/html": "<div>\n<style scoped>\n    .dataframe tbody tr th:only-of-type {\n        vertical-align: middle;\n    }\n\n    .dataframe tbody tr th {\n        vertical-align: top;\n    }\n\n    .dataframe thead th {\n        text-align: right;\n    }\n</style>\n<table border=\"1\" class=\"dataframe\">\n  <thead>\n    <tr style=\"text-align: right;\">\n      <th></th>\n      <th>image_filename</th>\n      <th>anyo</th>\n      <th>mes</th>\n      <th>Escena</th>\n    </tr>\n  </thead>\n  <tbody>\n    <tr>\n      <th>0</th>\n      <td>20210731_145146.jpg</td>\n      <td>2021</td>\n      <td>7</td>\n      <td>river_lake_7_2021</td>\n    </tr>\n    <tr>\n      <th>1</th>\n      <td>20210731_145608.jpg</td>\n      <td>2021</td>\n      <td>7</td>\n      <td>river_lake_7_2021</td>\n    </tr>\n    <tr>\n      <th>2</th>\n      <td>20210826_201433.jpg</td>\n      <td>2021</td>\n      <td>8</td>\n      <td>river_lake_8_2021</td>\n    </tr>\n    <tr>\n      <th>3</th>\n      <td>20210826_201434.jpg</td>\n      <td>2021</td>\n      <td>8</td>\n      <td>river_lake_8_2021</td>\n    </tr>\n    <tr>\n      <th>4</th>\n      <td>20210827_120642.jpg</td>\n      <td>2021</td>\n      <td>8</td>\n      <td>river_lake_8_2021</td>\n    </tr>\n    <tr>\n      <th>...</th>\n      <td>...</td>\n      <td>...</td>\n      <td>...</td>\n      <td>...</td>\n    </tr>\n    <tr>\n      <th>67</th>\n      <td>20210903_105241.jpg</td>\n      <td>2021</td>\n      <td>9</td>\n      <td>river_lake_9_2021</td>\n    </tr>\n    <tr>\n      <th>68</th>\n      <td>20210903_200124.jpg</td>\n      <td>2021</td>\n      <td>9</td>\n      <td>river_lake_9_2021</td>\n    </tr>\n    <tr>\n      <th>69</th>\n      <td>20210903_200317.jpg</td>\n      <td>2021</td>\n      <td>9</td>\n      <td>river_lake_9_2021</td>\n    </tr>\n    <tr>\n      <th>70</th>\n      <td>20210904_113705.jpg</td>\n      <td>2021</td>\n      <td>9</td>\n      <td>river_lake_9_2021</td>\n    </tr>\n    <tr>\n      <th>71</th>\n      <td>20221022_104027.jpg</td>\n      <td>2022</td>\n      <td>10</td>\n      <td>river_lake_10_2022</td>\n    </tr>\n  </tbody>\n</table>\n<p>72 rows × 4 columns</p>\n</div>"
     },
     "execution_count": 78,
     "metadata": {},
     "output_type": "execute_result"
    }
   ],
   "source": [
    "df_rivers_lakes_images"
   ],
   "metadata": {
    "collapsed": false,
    "ExecuteTime": {
     "end_time": "2023-05-22T22:40:24.112706300Z",
     "start_time": "2023-05-22T22:40:24.032761500Z"
    }
   }
  },
  {
   "cell_type": "markdown",
   "source": [
    "### 3.1.2. Albumes agrupados por mes y año"
   ],
   "metadata": {
    "collapsed": false
   }
  },
  {
   "cell_type": "code",
   "execution_count": 77,
   "outputs": [
    {
     "data": {
      "text/plain": "                    image_filename\nEscena                            \nriver_lake_10_2022               2\nriver_lake_11_2021               5\nriver_lake_11_2022               1\nriver_lake_12_2021               1\nriver_lake_1_2023                1\nriver_lake_5_2018                3\nriver_lake_7_2021                2\nriver_lake_8_2021               16\nriver_lake_8_2022               12\nriver_lake_9_2021               28\nriver_lake_9_2022                1",
      "text/html": "<div>\n<style scoped>\n    .dataframe tbody tr th:only-of-type {\n        vertical-align: middle;\n    }\n\n    .dataframe tbody tr th {\n        vertical-align: top;\n    }\n\n    .dataframe thead th {\n        text-align: right;\n    }\n</style>\n<table border=\"1\" class=\"dataframe\">\n  <thead>\n    <tr style=\"text-align: right;\">\n      <th></th>\n      <th>image_filename</th>\n    </tr>\n    <tr>\n      <th>Escena</th>\n      <th></th>\n    </tr>\n  </thead>\n  <tbody>\n    <tr>\n      <th>river_lake_10_2022</th>\n      <td>2</td>\n    </tr>\n    <tr>\n      <th>river_lake_11_2021</th>\n      <td>5</td>\n    </tr>\n    <tr>\n      <th>river_lake_11_2022</th>\n      <td>1</td>\n    </tr>\n    <tr>\n      <th>river_lake_12_2021</th>\n      <td>1</td>\n    </tr>\n    <tr>\n      <th>river_lake_1_2023</th>\n      <td>1</td>\n    </tr>\n    <tr>\n      <th>river_lake_5_2018</th>\n      <td>3</td>\n    </tr>\n    <tr>\n      <th>river_lake_7_2021</th>\n      <td>2</td>\n    </tr>\n    <tr>\n      <th>river_lake_8_2021</th>\n      <td>16</td>\n    </tr>\n    <tr>\n      <th>river_lake_8_2022</th>\n      <td>12</td>\n    </tr>\n    <tr>\n      <th>river_lake_9_2021</th>\n      <td>28</td>\n    </tr>\n    <tr>\n      <th>river_lake_9_2022</th>\n      <td>1</td>\n    </tr>\n  </tbody>\n</table>\n</div>"
     },
     "execution_count": 77,
     "metadata": {},
     "output_type": "execute_result"
    }
   ],
   "source": [
    "# Se pasa a agrupar por mes y año\n",
    "df_rivers_lakes_albumes = df_rivers_lakes_images.groupby(['Escena']).aggregate({'image_filename':'count'})\n",
    "df_rivers_lakes_albumes"
   ],
   "metadata": {
    "collapsed": false,
    "ExecuteTime": {
     "end_time": "2023-05-22T22:35:28.195499200Z",
     "start_time": "2023-05-22T22:35:28.154448300Z"
    }
   }
  },
  {
   "cell_type": "markdown",
   "source": [
    "En caso de querer solo escenas de rios y lagos que representen baños, se podrian descartar todos aquellos albumes que no sean de junio a septiembre."
   ],
   "metadata": {
    "collapsed": false
   }
  },
  {
   "cell_type": "markdown",
   "source": [
    "# 4. VIAJES"
   ],
   "metadata": {
    "collapsed": false
   }
  },
  {
   "cell_type": "markdown",
   "source": [
    "## 4.1. Obtención de imagenes con geolocalización"
   ],
   "metadata": {
    "collapsed": false
   }
  },
  {
   "cell_type": "markdown",
   "source": [
    "Se obtiene la información del grafo de imagenes a más de 100km de la residencia habitual y se complementan con información de la provincia, comunidad autonoma y año."
   ],
   "metadata": {
    "collapsed": false
   }
  },
  {
   "cell_type": "code",
   "execution_count": 10,
   "outputs": [],
   "source": [
    "# Primero se obtienen las imagnes obtenidas en ubicaciones a mas de 100km\n",
    "images = imagesGraphDB.get_images_distance_gt(200)\n",
    "# Se obtienen las provincias de las imagenes a mas de 200km\n",
    "df_province = imagesGraphDB.get_neighbours_by_type_of_node_list(images,'image_filename','provincia')\n",
    "# Se obtiene el año en que fue tomada cada imagen\n",
    "df_year = imagesGraphDB.get_neighbours_by_type_of_node_list(images,'image_filename','anyo')"
   ],
   "metadata": {
    "collapsed": false,
    "ExecuteTime": {
     "end_time": "2023-05-20T22:16:01.864131Z",
     "start_time": "2023-05-20T22:16:01.835842800Z"
    }
   }
  },
  {
   "cell_type": "markdown",
   "source": [
    "Se junta la información en un solo dataframe"
   ],
   "metadata": {
    "collapsed": false
   }
  },
  {
   "cell_type": "code",
   "execution_count": 11,
   "outputs": [
    {
     "data": {
      "text/plain": "          image_filename  provincia  anyo\n0    20210826_195318.jpg      Soria  2021\n1    20210826_195324.jpg      Soria  2021\n2    20210826_195328.jpg      Soria  2021\n3    20210826_200606.jpg      Soria  2021\n4    20210826_200610.jpg      Soria  2021\n..                   ...        ...   ...\n298  20210831_122453.jpg     Burgos  2021\n299  20210831_123216.jpg     Burgos  2021\n300  20210831_130745.jpg     Burgos  2021\n301  20210831_130851.jpg     Burgos  2021\n302  20210901_131702.jpg  Cantabria  2021\n\n[303 rows x 3 columns]",
      "text/html": "<div>\n<style scoped>\n    .dataframe tbody tr th:only-of-type {\n        vertical-align: middle;\n    }\n\n    .dataframe tbody tr th {\n        vertical-align: top;\n    }\n\n    .dataframe thead th {\n        text-align: right;\n    }\n</style>\n<table border=\"1\" class=\"dataframe\">\n  <thead>\n    <tr style=\"text-align: right;\">\n      <th></th>\n      <th>image_filename</th>\n      <th>provincia</th>\n      <th>anyo</th>\n    </tr>\n  </thead>\n  <tbody>\n    <tr>\n      <th>0</th>\n      <td>20210826_195318.jpg</td>\n      <td>Soria</td>\n      <td>2021</td>\n    </tr>\n    <tr>\n      <th>1</th>\n      <td>20210826_195324.jpg</td>\n      <td>Soria</td>\n      <td>2021</td>\n    </tr>\n    <tr>\n      <th>2</th>\n      <td>20210826_195328.jpg</td>\n      <td>Soria</td>\n      <td>2021</td>\n    </tr>\n    <tr>\n      <th>3</th>\n      <td>20210826_200606.jpg</td>\n      <td>Soria</td>\n      <td>2021</td>\n    </tr>\n    <tr>\n      <th>4</th>\n      <td>20210826_200610.jpg</td>\n      <td>Soria</td>\n      <td>2021</td>\n    </tr>\n    <tr>\n      <th>...</th>\n      <td>...</td>\n      <td>...</td>\n      <td>...</td>\n    </tr>\n    <tr>\n      <th>298</th>\n      <td>20210831_122453.jpg</td>\n      <td>Burgos</td>\n      <td>2021</td>\n    </tr>\n    <tr>\n      <th>299</th>\n      <td>20210831_123216.jpg</td>\n      <td>Burgos</td>\n      <td>2021</td>\n    </tr>\n    <tr>\n      <th>300</th>\n      <td>20210831_130745.jpg</td>\n      <td>Burgos</td>\n      <td>2021</td>\n    </tr>\n    <tr>\n      <th>301</th>\n      <td>20210831_130851.jpg</td>\n      <td>Burgos</td>\n      <td>2021</td>\n    </tr>\n    <tr>\n      <th>302</th>\n      <td>20210901_131702.jpg</td>\n      <td>Cantabria</td>\n      <td>2021</td>\n    </tr>\n  </tbody>\n</table>\n<p>303 rows × 3 columns</p>\n</div>"
     },
     "execution_count": 11,
     "metadata": {},
     "output_type": "execute_result"
    }
   ],
   "source": [
    "df_images_albumes = pd.merge(df_province,df_year,on='image_filename')\n",
    "df_images_albumes"
   ],
   "metadata": {
    "collapsed": false,
    "ExecuteTime": {
     "end_time": "2023-05-20T22:16:05.794143700Z",
     "start_time": "2023-05-20T22:16:05.743505300Z"
    }
   }
  },
  {
   "cell_type": "markdown",
   "source": [
    "## 4.2. Albumes Agrupados por provincia y año"
   ],
   "metadata": {
    "collapsed": false
   }
  },
  {
   "cell_type": "code",
   "execution_count": 13,
   "outputs": [],
   "source": [
    "df_images_albumes['viajes'] = df_images_albumes['provincia'] +'_'+ df_images_albumes['anyo']\n",
    "df_trip_albumes_proposal = df_images_albumes.groupby(['viajes']).aggregate({'image_filename':'count'})\n",
    "df_trip_albumes_proposal.rename(columns = {'image_filename':'numero_imagenes'},inplace=True)\n",
    "df_trip_albumes = df_trip_albumes_proposal[df_trip_albumes_proposal['numero_imagenes']>MIN_IMAGES_TRIP]"
   ],
   "metadata": {
    "collapsed": false,
    "ExecuteTime": {
     "end_time": "2023-05-20T22:16:35.066043700Z",
     "start_time": "2023-05-20T22:16:35.052501400Z"
    }
   }
  },
  {
   "cell_type": "code",
   "execution_count": 14,
   "outputs": [
    {
     "data": {
      "text/plain": "                numero_imagenes\nviajes                         \nBurgos_2021                  65\nCantabria_2021               84\nSoria_2021                  152",
      "text/html": "<div>\n<style scoped>\n    .dataframe tbody tr th:only-of-type {\n        vertical-align: middle;\n    }\n\n    .dataframe tbody tr th {\n        vertical-align: top;\n    }\n\n    .dataframe thead th {\n        text-align: right;\n    }\n</style>\n<table border=\"1\" class=\"dataframe\">\n  <thead>\n    <tr style=\"text-align: right;\">\n      <th></th>\n      <th>numero_imagenes</th>\n    </tr>\n    <tr>\n      <th>viajes</th>\n      <th></th>\n    </tr>\n  </thead>\n  <tbody>\n    <tr>\n      <th>Burgos_2021</th>\n      <td>65</td>\n    </tr>\n    <tr>\n      <th>Cantabria_2021</th>\n      <td>84</td>\n    </tr>\n    <tr>\n      <th>Soria_2021</th>\n      <td>152</td>\n    </tr>\n  </tbody>\n</table>\n</div>"
     },
     "execution_count": 14,
     "metadata": {},
     "output_type": "execute_result"
    }
   ],
   "source": [
    "df_trip_albumes"
   ],
   "metadata": {
    "collapsed": false,
    "ExecuteTime": {
     "end_time": "2023-05-20T22:16:38.287711300Z",
     "start_time": "2023-05-20T22:16:38.253050400Z"
    }
   }
  },
  {
   "cell_type": "markdown",
   "source": [
    "Mediante esta técnica se han detectado tres viajes que forman parte de las vacaciones de verano realizadas en el año 2021 y de las cuales se disponían de coordenadas de latitud y longitud."
   ],
   "metadata": {
    "collapsed": false
   }
  },
  {
   "cell_type": "markdown",
   "source": [
    "## 4.3. Álbumes detectados frecuencias de toma de fotos"
   ],
   "metadata": {
    "collapsed": false
   }
  },
  {
   "cell_type": "markdown",
   "source": [
    "Lo primero es calcular la frecuencia de toma de fotos promedio por año."
   ],
   "metadata": {
    "collapsed": false
   }
  },
  {
   "cell_type": "code",
   "execution_count": 64,
   "outputs": [],
   "source": [
    "# Se obtienen las imagenes del grafo\n",
    "images_list = imagesGraphDB.get_nodes_filtered_by_type('image_filename')\n",
    "# Se obtiene el año de estas imágenes\n",
    "df_images_year = imagesGraphDB.get_neighbours_by_type_of_node_list(images_list,'image_filename','anyo')\n",
    "df_images_date = imagesGraphDB.get_neighbours_by_type_of_node_list(images_list,'image_filename','fecha')"
   ],
   "metadata": {
    "collapsed": false,
    "ExecuteTime": {
     "end_time": "2023-05-24T19:08:10.265390900Z",
     "start_time": "2023-05-24T19:08:10.112962Z"
    }
   }
  },
  {
   "cell_type": "code",
   "execution_count": 65,
   "outputs": [
    {
     "data": {
      "text/plain": "      numero_imagenes  promedio_imagenes_dia\nanyo                                        \n2018                5               0.013699\n2021              870               2.383562\n2022              445               1.219178\n2023               45               0.123288",
      "text/html": "<div>\n<style scoped>\n    .dataframe tbody tr th:only-of-type {\n        vertical-align: middle;\n    }\n\n    .dataframe tbody tr th {\n        vertical-align: top;\n    }\n\n    .dataframe thead th {\n        text-align: right;\n    }\n</style>\n<table border=\"1\" class=\"dataframe\">\n  <thead>\n    <tr style=\"text-align: right;\">\n      <th></th>\n      <th>numero_imagenes</th>\n      <th>promedio_imagenes_dia</th>\n    </tr>\n    <tr>\n      <th>anyo</th>\n      <th></th>\n      <th></th>\n    </tr>\n  </thead>\n  <tbody>\n    <tr>\n      <th>2018</th>\n      <td>5</td>\n      <td>0.013699</td>\n    </tr>\n    <tr>\n      <th>2021</th>\n      <td>870</td>\n      <td>2.383562</td>\n    </tr>\n    <tr>\n      <th>2022</th>\n      <td>445</td>\n      <td>1.219178</td>\n    </tr>\n    <tr>\n      <th>2023</th>\n      <td>45</td>\n      <td>0.123288</td>\n    </tr>\n  </tbody>\n</table>\n</div>"
     },
     "execution_count": 65,
     "metadata": {},
     "output_type": "execute_result"
    }
   ],
   "source": [
    "# Se calcula el número de imagenes por año\n",
    "df_images_average_per_year = df_images_year.groupby(['anyo']).aggregate({'image_filename':'count'})\n",
    "df_images_average_per_year.rename(columns = {'image_filename':'numero_imagenes'},inplace=True)\n",
    "df_images_average_per_year['promedio_imagenes_dia'] = df_images_average_per_year['numero_imagenes']/365\n",
    "df_images_average_per_year"
   ],
   "metadata": {
    "collapsed": false,
    "ExecuteTime": {
     "end_time": "2023-05-24T19:08:13.109743Z",
     "start_time": "2023-05-24T19:08:13.042227600Z"
    }
   }
  },
  {
   "cell_type": "markdown",
   "source": [
    "Se observa que más de tres imagenes por dia es una anomalia. Se pasa a calcular para cada imagen el promedio de fotos de la ventana de tres dias anteriores y de tres dias posteriores incluyendo el dia de toma de la imagen"
   ],
   "metadata": {
    "collapsed": false
   }
  },
  {
   "cell_type": "code",
   "execution_count": 69,
   "outputs": [],
   "source": [
    "df_images_count_per_date = df_images_date.groupby(['fecha']).aggregate({'image_filename':'count'})\n",
    "df_images_count_per_date.rename(columns = {'image_filename':'numero_imagenes'},inplace=True)\n",
    "df_images_count_per_date.reset_index(inplace=True)\n"
   ],
   "metadata": {
    "collapsed": false,
    "ExecuteTime": {
     "end_time": "2023-05-24T19:09:31.106981500Z",
     "start_time": "2023-05-24T19:09:31.093968Z"
    }
   }
  },
  {
   "cell_type": "code",
   "execution_count": 70,
   "outputs": [],
   "source": [
    "df_images_count_per_date = pd.DataFrame(df_images_count_per_date)\n",
    "df_images_count_per_date['anyo'] = df_images_count_per_date['fecha'].apply(lambda x: int(x.split('_')[0]))\n",
    "df_images_count_per_date['mes'] = df_images_count_per_date['fecha'].apply(lambda x: int(x.split('_')[1]))\n",
    "df_images_count_per_date['dia'] = df_images_count_per_date['fecha'].apply(lambda x: int(x.split('_')[2]))"
   ],
   "metadata": {
    "collapsed": false,
    "ExecuteTime": {
     "end_time": "2023-05-24T19:09:33.771875Z",
     "start_time": "2023-05-24T19:09:33.714889300Z"
    }
   }
  },
  {
   "cell_type": "code",
   "execution_count": 71,
   "outputs": [
    {
     "data": {
      "text/plain": "         fecha  numero_imagenes  anyo  mes  dia\n0     2018_5_5                3  2018    5    5\n1    2018_8_22                1  2018    8   22\n2    2018_8_24                1  2018    8   24\n17   2021_7_24               17  2021    7   24\n18   2021_7_25               33  2021    7   25\n..         ...              ...   ...  ...  ...\n120  2023_2_16                1  2023    2   16\n121  2023_2_17                6  2023    2   17\n122  2023_2_18                3  2023    2   18\n123  2023_2_25                1  2023    2   25\n125   2023_3_5                6  2023    3    5\n\n[126 rows x 5 columns]",
      "text/html": "<div>\n<style scoped>\n    .dataframe tbody tr th:only-of-type {\n        vertical-align: middle;\n    }\n\n    .dataframe tbody tr th {\n        vertical-align: top;\n    }\n\n    .dataframe thead th {\n        text-align: right;\n    }\n</style>\n<table border=\"1\" class=\"dataframe\">\n  <thead>\n    <tr style=\"text-align: right;\">\n      <th></th>\n      <th>fecha</th>\n      <th>numero_imagenes</th>\n      <th>anyo</th>\n      <th>mes</th>\n      <th>dia</th>\n    </tr>\n  </thead>\n  <tbody>\n    <tr>\n      <th>0</th>\n      <td>2018_5_5</td>\n      <td>3</td>\n      <td>2018</td>\n      <td>5</td>\n      <td>5</td>\n    </tr>\n    <tr>\n      <th>1</th>\n      <td>2018_8_22</td>\n      <td>1</td>\n      <td>2018</td>\n      <td>8</td>\n      <td>22</td>\n    </tr>\n    <tr>\n      <th>2</th>\n      <td>2018_8_24</td>\n      <td>1</td>\n      <td>2018</td>\n      <td>8</td>\n      <td>24</td>\n    </tr>\n    <tr>\n      <th>17</th>\n      <td>2021_7_24</td>\n      <td>17</td>\n      <td>2021</td>\n      <td>7</td>\n      <td>24</td>\n    </tr>\n    <tr>\n      <th>18</th>\n      <td>2021_7_25</td>\n      <td>33</td>\n      <td>2021</td>\n      <td>7</td>\n      <td>25</td>\n    </tr>\n    <tr>\n      <th>...</th>\n      <td>...</td>\n      <td>...</td>\n      <td>...</td>\n      <td>...</td>\n      <td>...</td>\n    </tr>\n    <tr>\n      <th>120</th>\n      <td>2023_2_16</td>\n      <td>1</td>\n      <td>2023</td>\n      <td>2</td>\n      <td>16</td>\n    </tr>\n    <tr>\n      <th>121</th>\n      <td>2023_2_17</td>\n      <td>6</td>\n      <td>2023</td>\n      <td>2</td>\n      <td>17</td>\n    </tr>\n    <tr>\n      <th>122</th>\n      <td>2023_2_18</td>\n      <td>3</td>\n      <td>2023</td>\n      <td>2</td>\n      <td>18</td>\n    </tr>\n    <tr>\n      <th>123</th>\n      <td>2023_2_25</td>\n      <td>1</td>\n      <td>2023</td>\n      <td>2</td>\n      <td>25</td>\n    </tr>\n    <tr>\n      <th>125</th>\n      <td>2023_3_5</td>\n      <td>6</td>\n      <td>2023</td>\n      <td>3</td>\n      <td>5</td>\n    </tr>\n  </tbody>\n</table>\n<p>126 rows × 5 columns</p>\n</div>"
     },
     "execution_count": 71,
     "metadata": {},
     "output_type": "execute_result"
    }
   ],
   "source": [
    "df_images_count_per_date_ordered = df_images_count_per_date.sort_values(by=['anyo','mes','dia'],ascending=True).copy()\n",
    "df_images_count_per_date_ordered"
   ],
   "metadata": {
    "collapsed": false,
    "ExecuteTime": {
     "end_time": "2023-05-24T19:09:35.021319600Z",
     "start_time": "2023-05-24T19:09:34.966089Z"
    }
   }
  },
  {
   "cell_type": "code",
   "execution_count": 72,
   "outputs": [
    {
     "data": {
      "text/plain": "          fecha  numero_imagenes  anyo  mes  dia\n17    2021_7_24               17  2021    7   24\n18    2021_7_25               33  2021    7   25\n19    2021_7_31               85  2021    7   31\n25    2021_8_22               14  2021    8   22\n26    2021_8_23               39  2021    8   23\n28    2021_8_26               31  2021    8   26\n29    2021_8_27              121  2021    8   27\n31    2021_8_29               21  2021    8   29\n32    2021_8_30               34  2021    8   30\n33    2021_8_31               45  2021    8   31\n36     2021_9_1               44  2021    9    1\n40     2021_9_3              141  2021    9    3\n41     2021_9_4               87  2021    9    4\n42     2021_9_5               27  2021    9    5\n43     2021_9_6               12  2021    9    6\n7    2021_11_20               33  2021   11   20\n16   2021_12_31               12  2021   12   31\n62     2022_1_1               15  2022    1    1\n102    2022_8_6               14  2022    8    6\n92    2022_8_19               21  2022    8   19\n93    2022_8_20               20  2022    8   20\n94    2022_8_21               43  2022    8   21\n96    2022_8_23               61  2022    8   23\n98    2022_8_25               27  2022    8   25\n99    2022_8_26               23  2022    8   26\n101   2022_8_31               23  2022    8   31\n109    2022_9_3               29  2022    9    3\n105   2022_9_18               11  2022    9   18\n111    2023_1_1               14  2023    1    1",
      "text/html": "<div>\n<style scoped>\n    .dataframe tbody tr th:only-of-type {\n        vertical-align: middle;\n    }\n\n    .dataframe tbody tr th {\n        vertical-align: top;\n    }\n\n    .dataframe thead th {\n        text-align: right;\n    }\n</style>\n<table border=\"1\" class=\"dataframe\">\n  <thead>\n    <tr style=\"text-align: right;\">\n      <th></th>\n      <th>fecha</th>\n      <th>numero_imagenes</th>\n      <th>anyo</th>\n      <th>mes</th>\n      <th>dia</th>\n    </tr>\n  </thead>\n  <tbody>\n    <tr>\n      <th>17</th>\n      <td>2021_7_24</td>\n      <td>17</td>\n      <td>2021</td>\n      <td>7</td>\n      <td>24</td>\n    </tr>\n    <tr>\n      <th>18</th>\n      <td>2021_7_25</td>\n      <td>33</td>\n      <td>2021</td>\n      <td>7</td>\n      <td>25</td>\n    </tr>\n    <tr>\n      <th>19</th>\n      <td>2021_7_31</td>\n      <td>85</td>\n      <td>2021</td>\n      <td>7</td>\n      <td>31</td>\n    </tr>\n    <tr>\n      <th>25</th>\n      <td>2021_8_22</td>\n      <td>14</td>\n      <td>2021</td>\n      <td>8</td>\n      <td>22</td>\n    </tr>\n    <tr>\n      <th>26</th>\n      <td>2021_8_23</td>\n      <td>39</td>\n      <td>2021</td>\n      <td>8</td>\n      <td>23</td>\n    </tr>\n    <tr>\n      <th>28</th>\n      <td>2021_8_26</td>\n      <td>31</td>\n      <td>2021</td>\n      <td>8</td>\n      <td>26</td>\n    </tr>\n    <tr>\n      <th>29</th>\n      <td>2021_8_27</td>\n      <td>121</td>\n      <td>2021</td>\n      <td>8</td>\n      <td>27</td>\n    </tr>\n    <tr>\n      <th>31</th>\n      <td>2021_8_29</td>\n      <td>21</td>\n      <td>2021</td>\n      <td>8</td>\n      <td>29</td>\n    </tr>\n    <tr>\n      <th>32</th>\n      <td>2021_8_30</td>\n      <td>34</td>\n      <td>2021</td>\n      <td>8</td>\n      <td>30</td>\n    </tr>\n    <tr>\n      <th>33</th>\n      <td>2021_8_31</td>\n      <td>45</td>\n      <td>2021</td>\n      <td>8</td>\n      <td>31</td>\n    </tr>\n    <tr>\n      <th>36</th>\n      <td>2021_9_1</td>\n      <td>44</td>\n      <td>2021</td>\n      <td>9</td>\n      <td>1</td>\n    </tr>\n    <tr>\n      <th>40</th>\n      <td>2021_9_3</td>\n      <td>141</td>\n      <td>2021</td>\n      <td>9</td>\n      <td>3</td>\n    </tr>\n    <tr>\n      <th>41</th>\n      <td>2021_9_4</td>\n      <td>87</td>\n      <td>2021</td>\n      <td>9</td>\n      <td>4</td>\n    </tr>\n    <tr>\n      <th>42</th>\n      <td>2021_9_5</td>\n      <td>27</td>\n      <td>2021</td>\n      <td>9</td>\n      <td>5</td>\n    </tr>\n    <tr>\n      <th>43</th>\n      <td>2021_9_6</td>\n      <td>12</td>\n      <td>2021</td>\n      <td>9</td>\n      <td>6</td>\n    </tr>\n    <tr>\n      <th>7</th>\n      <td>2021_11_20</td>\n      <td>33</td>\n      <td>2021</td>\n      <td>11</td>\n      <td>20</td>\n    </tr>\n    <tr>\n      <th>16</th>\n      <td>2021_12_31</td>\n      <td>12</td>\n      <td>2021</td>\n      <td>12</td>\n      <td>31</td>\n    </tr>\n    <tr>\n      <th>62</th>\n      <td>2022_1_1</td>\n      <td>15</td>\n      <td>2022</td>\n      <td>1</td>\n      <td>1</td>\n    </tr>\n    <tr>\n      <th>102</th>\n      <td>2022_8_6</td>\n      <td>14</td>\n      <td>2022</td>\n      <td>8</td>\n      <td>6</td>\n    </tr>\n    <tr>\n      <th>92</th>\n      <td>2022_8_19</td>\n      <td>21</td>\n      <td>2022</td>\n      <td>8</td>\n      <td>19</td>\n    </tr>\n    <tr>\n      <th>93</th>\n      <td>2022_8_20</td>\n      <td>20</td>\n      <td>2022</td>\n      <td>8</td>\n      <td>20</td>\n    </tr>\n    <tr>\n      <th>94</th>\n      <td>2022_8_21</td>\n      <td>43</td>\n      <td>2022</td>\n      <td>8</td>\n      <td>21</td>\n    </tr>\n    <tr>\n      <th>96</th>\n      <td>2022_8_23</td>\n      <td>61</td>\n      <td>2022</td>\n      <td>8</td>\n      <td>23</td>\n    </tr>\n    <tr>\n      <th>98</th>\n      <td>2022_8_25</td>\n      <td>27</td>\n      <td>2022</td>\n      <td>8</td>\n      <td>25</td>\n    </tr>\n    <tr>\n      <th>99</th>\n      <td>2022_8_26</td>\n      <td>23</td>\n      <td>2022</td>\n      <td>8</td>\n      <td>26</td>\n    </tr>\n    <tr>\n      <th>101</th>\n      <td>2022_8_31</td>\n      <td>23</td>\n      <td>2022</td>\n      <td>8</td>\n      <td>31</td>\n    </tr>\n    <tr>\n      <th>109</th>\n      <td>2022_9_3</td>\n      <td>29</td>\n      <td>2022</td>\n      <td>9</td>\n      <td>3</td>\n    </tr>\n    <tr>\n      <th>105</th>\n      <td>2022_9_18</td>\n      <td>11</td>\n      <td>2022</td>\n      <td>9</td>\n      <td>18</td>\n    </tr>\n    <tr>\n      <th>111</th>\n      <td>2023_1_1</td>\n      <td>14</td>\n      <td>2023</td>\n      <td>1</td>\n      <td>1</td>\n    </tr>\n  </tbody>\n</table>\n</div>"
     },
     "execution_count": 72,
     "metadata": {},
     "output_type": "execute_result"
    }
   ],
   "source": [
    "# Se eliminan todos los dias que no esten por encima de 5 veces la media anual\n",
    "df_images_count_per_date_filtered = df_images_count_per_date_ordered[df_images_count_per_date_ordered['numero_imagenes']>10].copy()\n",
    "\n",
    "df_images_count_per_date_filtered"
   ],
   "metadata": {
    "collapsed": false,
    "ExecuteTime": {
     "end_time": "2023-05-24T19:09:36.786774700Z",
     "start_time": "2023-05-24T19:09:36.722441100Z"
    }
   }
  },
  {
   "cell_type": "code",
   "execution_count": 81,
   "outputs": [
    {
     "name": "stdout",
     "output_type": "stream",
     "text": [
      "trip: 2021_8_26-2021_9_6\n",
      "trip: 2022_8_19-2022_8_26\n"
     ]
    }
   ],
   "source": [
    "import datetime\n",
    "counter = 0\n",
    "num_images_day_before = 0\n",
    "num_images_current_day = 0\n",
    "trip_days_list = []\n",
    "trips = []\n",
    "trips_first_last_day = []\n",
    "trip =[]\n",
    "first_iteration = True\n",
    "num_days_current_trip = 1\n",
    "# Se averiguan los días que forman viajes a partir de días consecutivos o\n",
    "# alternativos con frecuencia de fotografías 5 veces por encima de la media anual\n",
    "for row in df_images_count_per_date_filtered.itertuples():\n",
    "    current_date = datetime.date(row.anyo,row.mes,row.dia)\n",
    "    if  first_iteration:\n",
    "        trip.append(row.fecha)\n",
    "        first_iteration = False\n",
    "    else:\n",
    "        if (current_date - before_date).days<=2:\n",
    "            trip.append(row.fecha)\n",
    "            num_days_current_trip = num_days_current_trip + (current_date - before_date).days\n",
    "        else:\n",
    "            if num_days_current_trip>=3:\n",
    "                trips.append(trip)\n",
    "            trip = []\n",
    "            trip.append(row.fecha)\n",
    "            num_days_current_trip = 1\n",
    "\n",
    "    before_date= current_date\n",
    "# Se obtienen las fechas de inicio y fin de los albumes\n",
    "for trip in trips:\n",
    "    counter =0\n",
    "    first_day_current_trip= ''\n",
    "    last_day_current_trip = ''\n",
    "    for day in trip:\n",
    "        if counter == 0:\n",
    "            first_day_current_trip = day\n",
    "        counter +=1\n",
    "        last_day_current_trip = day\n",
    "        trip_days_list.append(day)\n",
    "    print ('trip: '+ first_day_current_trip +'-'+last_day_current_trip)\n",
    "    trips_first_last_day.append((first_day_current_trip,last_day_current_trip))\n"
   ],
   "metadata": {
    "collapsed": false,
    "ExecuteTime": {
     "end_time": "2023-05-24T20:09:52.143357600Z",
     "start_time": "2023-05-24T20:09:52.129218600Z"
    }
   }
  },
  {
   "cell_type": "code",
   "execution_count": 82,
   "outputs": [],
   "source": [
    "# Se obtiene el año, mes y día para todas las imágenes y su fecha en formato datetime\n",
    "\n",
    "df_images_date['anyo'] = df_images_date['fecha'].apply(lambda x: int(x.split('_')[0]))\n",
    "df_images_date['mes'] = df_images_date['fecha'].apply(lambda x: int(x.split('_')[1]))\n",
    "df_images_date['dia'] = df_images_date['fecha'].apply(lambda x: int(x.split('_')[2]))\n",
    "df_images_date['datetime'] = df_images_date.apply((lambda x: datetime.date(x.anyo,x.mes,x.dia)),axis=1)\n"
   ],
   "metadata": {
    "collapsed": false,
    "ExecuteTime": {
     "end_time": "2023-05-24T20:09:54.968056900Z",
     "start_time": "2023-05-24T20:09:54.916413300Z"
    }
   }
  },
  {
   "cell_type": "code",
   "execution_count": 116,
   "outputs": [
    {
     "name": "stderr",
     "output_type": "stream",
     "text": [
      "C:\\Users\\dcsj\\AppData\\Local\\Temp\\ipykernel_18684\\3946465280.py:7: UserWarning: Boolean Series key will be reindexed to match DataFrame index.\n",
      "  df_images_date_trip= df_images_date_trip[df_images_date['datetime']<=last_day_date]\n"
     ]
    }
   ],
   "source": [
    "# Se consiguen todas las imágenes de los días de viaje\n",
    "trips_images=[]\n",
    "for first_last_day in trips_first_last_day:\n",
    "    first_day_date = datetime.datetime.strptime(first_last_day[0],'%Y_%m_%d').date()\n",
    "    last_day_date = datetime.datetime.strptime(first_last_day[1],'%Y_%m_%d').date()\n",
    "    df_images_date_trip = df_images_date[df_images_date['datetime']>=first_day_date].copy()\n",
    "    df_images_date_trip= df_images_date_trip[df_images_date['datetime']<=last_day_date]\n",
    "    trips_images = trips_images + df_images_date_trip['image_filename'].tolist()"
   ],
   "metadata": {
    "collapsed": false,
    "ExecuteTime": {
     "end_time": "2023-05-24T21:43:37.392500500Z",
     "start_time": "2023-05-24T21:43:37.365988300Z"
    }
   }
  },
  {
   "cell_type": "code",
   "execution_count": 117,
   "outputs": [],
   "source": [
    "# Se cruzan los datos para obtener dataframe con predicciones y real\n",
    "df_trips_images_final = pd.DataFrame(trips_images,columns=['image_filename'])\n",
    "df_trips_images_final['Viaje predicted']= 1\n",
    "df_trips_images_manual = df_images_labeled_manually[['Image','Viaje']]\n",
    "df_trips_analysis = df_trips_images_manual.merge(df_trips_images_final , how=\"left\", left_on=\"Image\", right_on=\"image_filename\")\n",
    "# Se informa con valor 0 aquellas imagenes sin detección de Viajes\n",
    "# en lugar de NA\n",
    "df_trips_analysis['Viaje predicted'] = df_trips_analysis['Viaje predicted']. fillna(0)\n",
    "\n",
    "# Se convierte a int la columna ya que se usa como booleano\n",
    "df_trips_analysis['Viaje predicted'] = df_trips_analysis['Viaje predicted'].astype('int')"
   ],
   "metadata": {
    "collapsed": false,
    "ExecuteTime": {
     "end_time": "2023-05-24T21:43:50.802821200Z",
     "start_time": "2023-05-24T21:43:50.771420300Z"
    }
   }
  },
  {
   "cell_type": "markdown",
   "source": [
    "Se calculan las matrices de confusión"
   ],
   "metadata": {
    "collapsed": false
   }
  },
  {
   "cell_type": "code",
   "execution_count": 118,
   "outputs": [
    {
     "data": {
      "text/plain": "<Figure size 640x480 with 2 Axes>",
      "image/png": "[encoded data removed]"
     },
     "metadata": {},
     "output_type": "display_data"
    }
   ],
   "source": [
    "from sklearn import metrics\n",
    "%matplotlib inline\n",
    "# Se cargan los resultados de la predicción y el real\n",
    "images_trips_actual= df_trips_analysis['Viaje'].to_numpy()\n",
    "images_trips_predicted= df_trips_analysis['Viaje predicted'].to_numpy()\n",
    "# Se cargan los datos para generar la matriz de confusión\n",
    "confusion_matrix = metrics.confusion_matrix(images_trips_actual, images_trips_predicted)\n",
    "cm_display = metrics.ConfusionMatrixDisplay(confusion_matrix = confusion_matrix, display_labels = [False, True])\n",
    "# Se muestra el gráfico\n",
    "cm_display.plot()\n",
    "plt.show()"
   ],
   "metadata": {
    "collapsed": false,
    "ExecuteTime": {
     "end_time": "2023-05-24T21:43:54.050796100Z",
     "start_time": "2023-05-24T21:43:53.654762900Z"
    }
   }
  },
  {
   "cell_type": "markdown",
   "source": [
    "Se obtienen las métricas de viajes detectados"
   ],
   "metadata": {
    "collapsed": false
   }
  },
  {
   "cell_type": "code",
   "execution_count": 119,
   "outputs": [
    {
     "data": {
      "text/plain": "{'recall': 0.9448529411764706,\n 'precision': 0.9846743295019157,\n 'accuracy': 0.9582417582417583,\n 'specificity': 0.9781420765027322,\n 'f1_score': 0.9643527204502814}"
     },
     "execution_count": 119,
     "metadata": {},
     "output_type": "execute_result"
    }
   ],
   "source": [
    "analyticsHelper = AnalyticsHelper()\n",
    "metrics = analyticsHelper.getBinaryClassificationConfusionMatrixMetrics(confusion_matrix)\n",
    "metrics"
   ],
   "metadata": {
    "collapsed": false,
    "ExecuteTime": {
     "end_time": "2023-05-24T21:46:12.365700Z",
     "start_time": "2023-05-24T21:46:12.310989500Z"
    }
   }
  },
  {
   "cell_type": "code",
   "execution_count": null,
   "outputs": [],
   "source": [],
   "metadata": {
    "collapsed": false
   }
  }
 ],
 "metadata": {
  "kernelspec": {
   "display_name": "Python 3",
   "language": "python",
   "name": "python3"
  },
  "language_info": {
   "codemirror_mode": {
    "name": "ipython",
    "version": 2
   },
   "file_extension": ".py",
   "mimetype": "text/x-python",
   "name": "python",
   "nbconvert_exporter": "python",
   "pygments_lexer": "ipython2",
   "version": "2.7.6"
  }
 },
 "nbformat": 4,
 "nbformat_minor": 0
}
